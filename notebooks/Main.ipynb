{
 "cells": [
  {
   "cell_type": "code",
   "execution_count": 70,
   "id": "787b1486-0bb3-4089-af22-b2bc0302cfe9",
   "metadata": {},
   "outputs": [
    {
     "data": {
      "text/html": [
       "<pre style=\"white-space:pre;overflow-x:auto;line-height:normal;font-family:Menlo,'DejaVu Sans Mono',consolas,'Courier New',monospace\"><span style=\"color: #7fbfbf; text-decoration-color: #7fbfbf\">[05/06/23 12:15:12] </span><span style=\"color: #000080; text-decoration-color: #000080\">INFO    </span> Resolved project path as: C:\\Work\\Weather_Aus\\weather-aus.             <a href=\"file://c:\\Work\\Weather_Aus\\venv\\lib\\site-packages\\kedro\\ipython\\__init__.py\" target=\"_blank\"><span style=\"color: #7f7f7f; text-decoration-color: #7f7f7f\">__init__.py</span></a><span style=\"color: #7f7f7f; text-decoration-color: #7f7f7f\">:</span><a href=\"file://c:\\Work\\Weather_Aus\\venv\\lib\\site-packages\\kedro\\ipython\\__init__.py#134\" target=\"_blank\"><span style=\"color: #7f7f7f; text-decoration-color: #7f7f7f\">134</span></a>\n",
       "<span style=\"color: #7fbfbf; text-decoration-color: #7fbfbf\">                    </span>         To set a different path, run <span style=\"color: #008000; text-decoration-color: #008000\">'%reload_kedro &lt;project_root&gt;'</span>            <span style=\"color: #7f7f7f; text-decoration-color: #7f7f7f\">               </span>\n",
       "</pre>\n"
      ],
      "text/plain": [
       "\u001b[2;36m[05/06/23 12:15:12]\u001b[0m\u001b[2;36m \u001b[0m\u001b[34mINFO    \u001b[0m Resolved project path as: C:\\Work\\Weather_Aus\\weather-aus.             \u001b]8;id=170209;file://c:\\Work\\Weather_Aus\\venv\\lib\\site-packages\\kedro\\ipython\\__init__.py\u001b\\\u001b[2m__init__.py\u001b[0m\u001b]8;;\u001b\\\u001b[2m:\u001b[0m\u001b]8;id=379219;file://c:\\Work\\Weather_Aus\\venv\\lib\\site-packages\\kedro\\ipython\\__init__.py#134\u001b\\\u001b[2m134\u001b[0m\u001b]8;;\u001b\\\n",
       "\u001b[2;36m                    \u001b[0m         To set a different path, run \u001b[32m'%reload_kedro \u001b[0m\u001b[32m<\u001b[0m\u001b[32mproject_root\u001b[0m\u001b[32m>\u001b[0m\u001b[32m'\u001b[0m            \u001b[2m               \u001b[0m\n"
      ]
     },
     "metadata": {},
     "output_type": "display_data"
    },
    {
     "data": {
      "text/html": [
       "<pre style=\"white-space:pre;overflow-x:auto;line-height:normal;font-family:Menlo,'DejaVu Sans Mono',consolas,'Courier New',monospace\"><span style=\"color: #7fbfbf; text-decoration-color: #7fbfbf\">[05/06/23 12:15:23] </span><span style=\"color: #800000; text-decoration-color: #800000\">WARNING </span> Failed to send data to Heap. Exception of type <span style=\"color: #008000; text-decoration-color: #008000\">'ConnectionError'</span> was     <a href=\"file://c:\\Work\\Weather_Aus\\venv\\lib\\site-packages\\kedro_telemetry\\plugin.py\" target=\"_blank\"><span style=\"color: #7f7f7f; text-decoration-color: #7f7f7f\">plugin.py</span></a><span style=\"color: #7f7f7f; text-decoration-color: #7f7f7f\">:</span><a href=\"file://c:\\Work\\Weather_Aus\\venv\\lib\\site-packages\\kedro_telemetry\\plugin.py#219\" target=\"_blank\"><span style=\"color: #7f7f7f; text-decoration-color: #7f7f7f\">219</span></a>\n",
       "<span style=\"color: #7fbfbf; text-decoration-color: #7fbfbf\">                    </span>         raised.                                                                  <span style=\"color: #7f7f7f; text-decoration-color: #7f7f7f\">             </span>\n",
       "</pre>\n"
      ],
      "text/plain": [
       "\u001b[2;36m[05/06/23 12:15:23]\u001b[0m\u001b[2;36m \u001b[0m\u001b[31mWARNING \u001b[0m Failed to send data to Heap. Exception of type \u001b[32m'ConnectionError'\u001b[0m was     \u001b]8;id=179711;file://c:\\Work\\Weather_Aus\\venv\\lib\\site-packages\\kedro_telemetry\\plugin.py\u001b\\\u001b[2mplugin.py\u001b[0m\u001b]8;;\u001b\\\u001b[2m:\u001b[0m\u001b]8;id=373310;file://c:\\Work\\Weather_Aus\\venv\\lib\\site-packages\\kedro_telemetry\\plugin.py#219\u001b\\\u001b[2m219\u001b[0m\u001b]8;;\u001b\\\n",
       "\u001b[2;36m                    \u001b[0m         raised.                                                                  \u001b[2m             \u001b[0m\n"
      ]
     },
     "metadata": {},
     "output_type": "display_data"
    },
    {
     "data": {
      "text/html": [
       "<pre style=\"white-space:pre;overflow-x:auto;line-height:normal;font-family:Menlo,'DejaVu Sans Mono',consolas,'Courier New',monospace\"><span style=\"color: #7fbfbf; text-decoration-color: #7fbfbf\">                    </span><span style=\"color: #000080; text-decoration-color: #000080\">INFO    </span> Kedro project Weather_aus                                              <a href=\"file://c:\\Work\\Weather_Aus\\venv\\lib\\site-packages\\kedro\\ipython\\__init__.py\" target=\"_blank\"><span style=\"color: #7f7f7f; text-decoration-color: #7f7f7f\">__init__.py</span></a><span style=\"color: #7f7f7f; text-decoration-color: #7f7f7f\">:</span><a href=\"file://c:\\Work\\Weather_Aus\\venv\\lib\\site-packages\\kedro\\ipython\\__init__.py#103\" target=\"_blank\"><span style=\"color: #7f7f7f; text-decoration-color: #7f7f7f\">103</span></a>\n",
       "</pre>\n"
      ],
      "text/plain": [
       "\u001b[2;36m                   \u001b[0m\u001b[2;36m \u001b[0m\u001b[34mINFO    \u001b[0m Kedro project Weather_aus                                              \u001b]8;id=954159;file://c:\\Work\\Weather_Aus\\venv\\lib\\site-packages\\kedro\\ipython\\__init__.py\u001b\\\u001b[2m__init__.py\u001b[0m\u001b]8;;\u001b\\\u001b[2m:\u001b[0m\u001b]8;id=752923;file://c:\\Work\\Weather_Aus\\venv\\lib\\site-packages\\kedro\\ipython\\__init__.py#103\u001b\\\u001b[2m103\u001b[0m\u001b]8;;\u001b\\\n"
      ]
     },
     "metadata": {},
     "output_type": "display_data"
    },
    {
     "data": {
      "text/html": [
       "<pre style=\"white-space:pre;overflow-x:auto;line-height:normal;font-family:Menlo,'DejaVu Sans Mono',consolas,'Courier New',monospace\"><span style=\"color: #7fbfbf; text-decoration-color: #7fbfbf\">                    </span><span style=\"color: #000080; text-decoration-color: #000080\">INFO    </span> Defined global variable <span style=\"color: #008000; text-decoration-color: #008000\">'context'</span>, <span style=\"color: #008000; text-decoration-color: #008000\">'session'</span>, <span style=\"color: #008000; text-decoration-color: #008000\">'catalog'</span> and            <a href=\"file://c:\\Work\\Weather_Aus\\venv\\lib\\site-packages\\kedro\\ipython\\__init__.py\" target=\"_blank\"><span style=\"color: #7f7f7f; text-decoration-color: #7f7f7f\">__init__.py</span></a><span style=\"color: #7f7f7f; text-decoration-color: #7f7f7f\">:</span><a href=\"file://c:\\Work\\Weather_Aus\\venv\\lib\\site-packages\\kedro\\ipython\\__init__.py#104\" target=\"_blank\"><span style=\"color: #7f7f7f; text-decoration-color: #7f7f7f\">104</span></a>\n",
       "<span style=\"color: #7fbfbf; text-decoration-color: #7fbfbf\">                    </span>         <span style=\"color: #008000; text-decoration-color: #008000\">'pipelines'</span>                                                            <span style=\"color: #7f7f7f; text-decoration-color: #7f7f7f\">               </span>\n",
       "</pre>\n"
      ],
      "text/plain": [
       "\u001b[2;36m                   \u001b[0m\u001b[2;36m \u001b[0m\u001b[34mINFO    \u001b[0m Defined global variable \u001b[32m'context'\u001b[0m, \u001b[32m'session'\u001b[0m, \u001b[32m'catalog'\u001b[0m and            \u001b]8;id=30933;file://c:\\Work\\Weather_Aus\\venv\\lib\\site-packages\\kedro\\ipython\\__init__.py\u001b\\\u001b[2m__init__.py\u001b[0m\u001b]8;;\u001b\\\u001b[2m:\u001b[0m\u001b]8;id=815423;file://c:\\Work\\Weather_Aus\\venv\\lib\\site-packages\\kedro\\ipython\\__init__.py#104\u001b\\\u001b[2m104\u001b[0m\u001b]8;;\u001b\\\n",
       "\u001b[2;36m                    \u001b[0m         \u001b[32m'pipelines'\u001b[0m                                                            \u001b[2m               \u001b[0m\n"
      ]
     },
     "metadata": {},
     "output_type": "display_data"
    },
    {
     "data": {
      "text/html": [
       "<pre style=\"white-space:pre;overflow-x:auto;line-height:normal;font-family:Menlo,'DejaVu Sans Mono',consolas,'Courier New',monospace\"><span style=\"color: #7fbfbf; text-decoration-color: #7fbfbf\">                    </span><span style=\"color: #000080; text-decoration-color: #000080\">INFO    </span> Registered line magic <span style=\"color: #008000; text-decoration-color: #008000\">'run_viz'</span>                                        <a href=\"file://c:\\Work\\Weather_Aus\\venv\\lib\\site-packages\\kedro\\ipython\\__init__.py\" target=\"_blank\"><span style=\"color: #7f7f7f; text-decoration-color: #7f7f7f\">__init__.py</span></a><span style=\"color: #7f7f7f; text-decoration-color: #7f7f7f\">:</span><a href=\"file://c:\\Work\\Weather_Aus\\venv\\lib\\site-packages\\kedro\\ipython\\__init__.py#110\" target=\"_blank\"><span style=\"color: #7f7f7f; text-decoration-color: #7f7f7f\">110</span></a>\n",
       "</pre>\n"
      ],
      "text/plain": [
       "\u001b[2;36m                   \u001b[0m\u001b[2;36m \u001b[0m\u001b[34mINFO    \u001b[0m Registered line magic \u001b[32m'run_viz'\u001b[0m                                        \u001b]8;id=896416;file://c:\\Work\\Weather_Aus\\venv\\lib\\site-packages\\kedro\\ipython\\__init__.py\u001b\\\u001b[2m__init__.py\u001b[0m\u001b]8;;\u001b\\\u001b[2m:\u001b[0m\u001b]8;id=511675;file://c:\\Work\\Weather_Aus\\venv\\lib\\site-packages\\kedro\\ipython\\__init__.py#110\u001b\\\u001b[2m110\u001b[0m\u001b]8;;\u001b\\\n"
      ]
     },
     "metadata": {},
     "output_type": "display_data"
    }
   ],
   "source": [
    "%reload_kedro"
   ]
  },
  {
   "cell_type": "code",
   "execution_count": 71,
   "id": "cc37f455-1451-4cab-92b0-31da96d44981",
   "metadata": {},
   "outputs": [
    {
     "data": {
      "text/plain": [
       "['weather_AUS_raw',\n",
       " 'df1',\n",
       " 'df1_treat_missing_value',\n",
       " 'X_training',\n",
       " 'y_training',\n",
       " 'X_training0',\n",
       " 'df1_scaled_data1',\n",
       " 'model',\n",
       " 'parameters']"
      ]
     },
     "execution_count": 71,
     "metadata": {},
     "output_type": "execute_result"
    }
   ],
   "source": [
    "catalog.list()"
   ]
  },
  {
   "cell_type": "code",
   "execution_count": 72,
   "id": "302d45d0-edaf-411d-9a05-94dcdfbc1e7f",
   "metadata": {},
   "outputs": [],
   "source": [
    "import pandas as pd\n",
    "import numpy as np\n",
    "#import seaborn as sns\n",
    "#import matplotlib.pyplot as plt\n",
    "#%matplotlib inline\n",
    "\n",
    "import warnings\n",
    "\n",
    "warnings.filterwarnings('ignore')"
   ]
  },
  {
   "cell_type": "code",
   "execution_count": 73,
   "id": "dbcf1e46-1a0f-4dcc-8484-5a6edfee6703",
   "metadata": {},
   "outputs": [
    {
     "data": {
      "text/html": [
       "<pre style=\"white-space:pre;overflow-x:auto;line-height:normal;font-family:Menlo,'DejaVu Sans Mono',consolas,'Courier New',monospace\"><span style=\"color: #7fbfbf; text-decoration-color: #7fbfbf\">                    </span><span style=\"color: #000080; text-decoration-color: #000080\">INFO    </span> Loading data from <span style=\"color: #008000; text-decoration-color: #008000\">'weather_AUS_raw'</span> <span style=\"font-weight: bold\">(</span>CSVDataSet<span style=\"font-weight: bold\">)</span><span style=\"color: #808000; text-decoration-color: #808000\">...</span>                <a href=\"file://c:\\Work\\Weather_Aus\\venv\\lib\\site-packages\\kedro\\io\\data_catalog.py\" target=\"_blank\"><span style=\"color: #7f7f7f; text-decoration-color: #7f7f7f\">data_catalog.py</span></a><span style=\"color: #7f7f7f; text-decoration-color: #7f7f7f\">:</span><a href=\"file://c:\\Work\\Weather_Aus\\venv\\lib\\site-packages\\kedro\\io\\data_catalog.py#343\" target=\"_blank\"><span style=\"color: #7f7f7f; text-decoration-color: #7f7f7f\">343</span></a>\n",
       "</pre>\n"
      ],
      "text/plain": [
       "\u001b[2;36m                   \u001b[0m\u001b[2;36m \u001b[0m\u001b[34mINFO    \u001b[0m Loading data from \u001b[32m'weather_AUS_raw'\u001b[0m \u001b[1m(\u001b[0mCSVDataSet\u001b[1m)\u001b[0m\u001b[33m...\u001b[0m                \u001b]8;id=846003;file://c:\\Work\\Weather_Aus\\venv\\lib\\site-packages\\kedro\\io\\data_catalog.py\u001b\\\u001b[2mdata_catalog.py\u001b[0m\u001b]8;;\u001b\\\u001b[2m:\u001b[0m\u001b]8;id=193983;file://c:\\Work\\Weather_Aus\\venv\\lib\\site-packages\\kedro\\io\\data_catalog.py#343\u001b\\\u001b[2m343\u001b[0m\u001b]8;;\u001b\\\n"
      ]
     },
     "metadata": {},
     "output_type": "display_data"
    }
   ],
   "source": [
    "df = catalog.load('weather_AUS_raw')"
   ]
  },
  {
   "cell_type": "code",
   "execution_count": 74,
   "id": "0b66adeb-de07-4688-a49c-bd2e93da31a9",
   "metadata": {},
   "outputs": [
    {
     "data": {
      "text/html": [
       "<div>\n",
       "<style scoped>\n",
       "    .dataframe tbody tr th:only-of-type {\n",
       "        vertical-align: middle;\n",
       "    }\n",
       "\n",
       "    .dataframe tbody tr th {\n",
       "        vertical-align: top;\n",
       "    }\n",
       "\n",
       "    .dataframe thead th {\n",
       "        text-align: right;\n",
       "    }\n",
       "</style>\n",
       "<table border=\"1\" class=\"dataframe\">\n",
       "  <thead>\n",
       "    <tr style=\"text-align: right;\">\n",
       "      <th></th>\n",
       "      <th>Date</th>\n",
       "      <th>Location</th>\n",
       "      <th>MinTemp</th>\n",
       "      <th>MaxTemp</th>\n",
       "      <th>Rainfall</th>\n",
       "      <th>Evaporation</th>\n",
       "      <th>Sunshine</th>\n",
       "      <th>WindGustDir</th>\n",
       "      <th>WindGustSpeed</th>\n",
       "      <th>WindDir9am</th>\n",
       "      <th>...</th>\n",
       "      <th>Humidity9am</th>\n",
       "      <th>Humidity3pm</th>\n",
       "      <th>Pressure9am</th>\n",
       "      <th>Pressure3pm</th>\n",
       "      <th>Cloud9am</th>\n",
       "      <th>Cloud3pm</th>\n",
       "      <th>Temp9am</th>\n",
       "      <th>Temp3pm</th>\n",
       "      <th>RainToday</th>\n",
       "      <th>RainTomorrow</th>\n",
       "    </tr>\n",
       "  </thead>\n",
       "  <tbody>\n",
       "    <tr>\n",
       "      <th>0</th>\n",
       "      <td>2008-12-01</td>\n",
       "      <td>Albury</td>\n",
       "      <td>13.4</td>\n",
       "      <td>22.9</td>\n",
       "      <td>0.6</td>\n",
       "      <td>NaN</td>\n",
       "      <td>NaN</td>\n",
       "      <td>W</td>\n",
       "      <td>44.0</td>\n",
       "      <td>W</td>\n",
       "      <td>...</td>\n",
       "      <td>71.0</td>\n",
       "      <td>22.0</td>\n",
       "      <td>1007.7</td>\n",
       "      <td>1007.1</td>\n",
       "      <td>8.0</td>\n",
       "      <td>NaN</td>\n",
       "      <td>16.9</td>\n",
       "      <td>21.8</td>\n",
       "      <td>No</td>\n",
       "      <td>No</td>\n",
       "    </tr>\n",
       "    <tr>\n",
       "      <th>1</th>\n",
       "      <td>2008-12-02</td>\n",
       "      <td>Albury</td>\n",
       "      <td>7.4</td>\n",
       "      <td>25.1</td>\n",
       "      <td>0.0</td>\n",
       "      <td>NaN</td>\n",
       "      <td>NaN</td>\n",
       "      <td>WNW</td>\n",
       "      <td>44.0</td>\n",
       "      <td>NNW</td>\n",
       "      <td>...</td>\n",
       "      <td>44.0</td>\n",
       "      <td>25.0</td>\n",
       "      <td>1010.6</td>\n",
       "      <td>1007.8</td>\n",
       "      <td>NaN</td>\n",
       "      <td>NaN</td>\n",
       "      <td>17.2</td>\n",
       "      <td>24.3</td>\n",
       "      <td>No</td>\n",
       "      <td>No</td>\n",
       "    </tr>\n",
       "    <tr>\n",
       "      <th>2</th>\n",
       "      <td>2008-12-03</td>\n",
       "      <td>Albury</td>\n",
       "      <td>12.9</td>\n",
       "      <td>25.7</td>\n",
       "      <td>0.0</td>\n",
       "      <td>NaN</td>\n",
       "      <td>NaN</td>\n",
       "      <td>WSW</td>\n",
       "      <td>46.0</td>\n",
       "      <td>W</td>\n",
       "      <td>...</td>\n",
       "      <td>38.0</td>\n",
       "      <td>30.0</td>\n",
       "      <td>1007.6</td>\n",
       "      <td>1008.7</td>\n",
       "      <td>NaN</td>\n",
       "      <td>2.0</td>\n",
       "      <td>21.0</td>\n",
       "      <td>23.2</td>\n",
       "      <td>No</td>\n",
       "      <td>No</td>\n",
       "    </tr>\n",
       "    <tr>\n",
       "      <th>3</th>\n",
       "      <td>2008-12-04</td>\n",
       "      <td>Albury</td>\n",
       "      <td>9.2</td>\n",
       "      <td>28.0</td>\n",
       "      <td>0.0</td>\n",
       "      <td>NaN</td>\n",
       "      <td>NaN</td>\n",
       "      <td>NE</td>\n",
       "      <td>24.0</td>\n",
       "      <td>SE</td>\n",
       "      <td>...</td>\n",
       "      <td>45.0</td>\n",
       "      <td>16.0</td>\n",
       "      <td>1017.6</td>\n",
       "      <td>1012.8</td>\n",
       "      <td>NaN</td>\n",
       "      <td>NaN</td>\n",
       "      <td>18.1</td>\n",
       "      <td>26.5</td>\n",
       "      <td>No</td>\n",
       "      <td>No</td>\n",
       "    </tr>\n",
       "    <tr>\n",
       "      <th>4</th>\n",
       "      <td>2008-12-05</td>\n",
       "      <td>Albury</td>\n",
       "      <td>17.5</td>\n",
       "      <td>32.3</td>\n",
       "      <td>1.0</td>\n",
       "      <td>NaN</td>\n",
       "      <td>NaN</td>\n",
       "      <td>W</td>\n",
       "      <td>41.0</td>\n",
       "      <td>ENE</td>\n",
       "      <td>...</td>\n",
       "      <td>82.0</td>\n",
       "      <td>33.0</td>\n",
       "      <td>1010.8</td>\n",
       "      <td>1006.0</td>\n",
       "      <td>7.0</td>\n",
       "      <td>8.0</td>\n",
       "      <td>17.8</td>\n",
       "      <td>29.7</td>\n",
       "      <td>No</td>\n",
       "      <td>No</td>\n",
       "    </tr>\n",
       "  </tbody>\n",
       "</table>\n",
       "<p>5 rows × 23 columns</p>\n",
       "</div>"
      ],
      "text/plain": [
       "         Date Location  MinTemp  MaxTemp  Rainfall  Evaporation  Sunshine   \n",
       "0  2008-12-01   Albury     13.4     22.9       0.6          NaN       NaN  \\\n",
       "1  2008-12-02   Albury      7.4     25.1       0.0          NaN       NaN   \n",
       "2  2008-12-03   Albury     12.9     25.7       0.0          NaN       NaN   \n",
       "3  2008-12-04   Albury      9.2     28.0       0.0          NaN       NaN   \n",
       "4  2008-12-05   Albury     17.5     32.3       1.0          NaN       NaN   \n",
       "\n",
       "  WindGustDir  WindGustSpeed WindDir9am  ... Humidity9am  Humidity3pm   \n",
       "0           W           44.0          W  ...        71.0         22.0  \\\n",
       "1         WNW           44.0        NNW  ...        44.0         25.0   \n",
       "2         WSW           46.0          W  ...        38.0         30.0   \n",
       "3          NE           24.0         SE  ...        45.0         16.0   \n",
       "4           W           41.0        ENE  ...        82.0         33.0   \n",
       "\n",
       "   Pressure9am  Pressure3pm  Cloud9am  Cloud3pm  Temp9am  Temp3pm  RainToday   \n",
       "0       1007.7       1007.1       8.0       NaN     16.9     21.8         No  \\\n",
       "1       1010.6       1007.8       NaN       NaN     17.2     24.3         No   \n",
       "2       1007.6       1008.7       NaN       2.0     21.0     23.2         No   \n",
       "3       1017.6       1012.8       NaN       NaN     18.1     26.5         No   \n",
       "4       1010.8       1006.0       7.0       8.0     17.8     29.7         No   \n",
       "\n",
       "   RainTomorrow  \n",
       "0            No  \n",
       "1            No  \n",
       "2            No  \n",
       "3            No  \n",
       "4            No  \n",
       "\n",
       "[5 rows x 23 columns]"
      ]
     },
     "execution_count": 74,
     "metadata": {},
     "output_type": "execute_result"
    }
   ],
   "source": [
    "df.head()"
   ]
  },
  {
   "cell_type": "code",
   "execution_count": 41,
   "id": "085e3d1f-a1b0-4519-9c11-2e21a84309e8",
   "metadata": {},
   "outputs": [
    {
     "name": "stdout",
     "output_type": "stream",
     "text": [
      "Requirement already satisfied: scikit-learn in c:\\work\\weather_aus\\venv\\lib\\site-packages (1.2.2)\n",
      "Requirement already satisfied: joblib>=1.1.1 in c:\\work\\weather_aus\\venv\\lib\\site-packages (from scikit-learn) (1.2.0)\n",
      "Requirement already satisfied: threadpoolctl>=2.0.0 in c:\\work\\weather_aus\\venv\\lib\\site-packages (from scikit-learn) (3.1.0)\n",
      "Requirement already satisfied: numpy>=1.17.3 in c:\\work\\weather_aus\\venv\\lib\\site-packages (from scikit-learn) (1.24.3)\n",
      "Requirement already satisfied: scipy>=1.3.2 in c:\\work\\weather_aus\\venv\\lib\\site-packages (from scikit-learn) (1.10.1)\n",
      "Note: you may need to restart the kernel to use updated packages.\n"
     ]
    },
    {
     "name": "stderr",
     "output_type": "stream",
     "text": [
      "\n",
      "[notice] A new release of pip available: 22.2.2 -> 23.1.2\n",
      "[notice] To update, run: python.exe -m pip install --upgrade pip\n"
     ]
    }
   ],
   "source": [
    "pip install -U scikit-learn"
   ]
  },
  {
   "cell_type": "code",
   "execution_count": 42,
   "id": "35563c01-baac-4db5-ba6a-ebf096901260",
   "metadata": {},
   "outputs": [
    {
     "data": {
      "text/plain": [
       "(145460, 23)"
      ]
     },
     "execution_count": 42,
     "metadata": {},
     "output_type": "execute_result"
    }
   ],
   "source": [
    "df.shape"
   ]
  },
  {
   "attachments": {},
   "cell_type": "markdown",
   "id": "2c198cb3-ed89-453e-ad87-cfc65f8d0023",
   "metadata": {},
   "source": [
    "# We need to create nodes"
   ]
  },
  {
   "cell_type": "code",
   "execution_count": 132,
   "id": "80c91d16-0a06-4c55-b8dc-60887fd087a9",
   "metadata": {},
   "outputs": [],
   "source": [
    "def extract_training_data(df):\n",
    "    \"\"\" Extracting training data from raw data and droping Date column\n",
    "    Arg: Pandas DataFrame here raw data\n",
    "    Return: DataFrame i.e. Training data\"\"\"\n",
    "    df = df.drop('Date',axis=1)\n",
    "    df1 = df[df['RainTomorrow'].notna()]\n",
    "    return df1"
   ]
  },
  {
   "cell_type": "code",
   "execution_count": 133,
   "id": "b213c0e1-ac9d-44ef-afe9-abbf64865273",
   "metadata": {},
   "outputs": [],
   "source": [
    "df1 = extract_training_data(df)"
   ]
  },
  {
   "cell_type": "code",
   "execution_count": 134,
   "id": "3d8921b5-7170-464a-a897-0a875a24e811",
   "metadata": {},
   "outputs": [],
   "source": [
    "def treat_missing_val(df1):\n",
    "    \"\"\" Misssing value treatment on training data\n",
    "    Arg: df1\n",
    "    Return: df1_treat_missing_value\"\"\"\n",
    "    df1_treat_missing_value = df1.fillna(method='ffill',axis=0).fillna(method='bfill',axis=0)\n",
    "    return df1_treat_missing_value"
   ]
  },
  {
   "cell_type": "code",
   "execution_count": 135,
   "id": "ac89a23c-7a4f-46b1-b714-a02d576414aa",
   "metadata": {},
   "outputs": [],
   "source": [
    "df1_treat_missing_value = treat_missing_val(df1)"
   ]
  },
  {
   "cell_type": "code",
   "execution_count": 136,
   "id": "90d381fe-62de-4990-bf76-1986afbd6049",
   "metadata": {},
   "outputs": [],
   "source": [
    "def train_data_split(df1_treat_missing_value):\n",
    "    \"\"\" Splitting training data in X,y\n",
    "    Arg: df1\n",
    "    Return: X_training,y_training\"\"\"\n",
    "    X_training = df1_treat_missing_value.drop(['RainTomorrow'],axis=1)\n",
    "    y_training = df1_treat_missing_value['RainTomorrow']\n",
    "    return X_training\n",
    "    return y_training"
   ]
  },
  {
   "cell_type": "code",
   "execution_count": 48,
   "id": "9ae619e8-f441-414c-802c-2f20a2a26aee",
   "metadata": {},
   "outputs": [],
   "source": [
    "X_training = train_data_split(df1_treat_missing_value)\n",
    "y_training = train_data_split(df1_treat_missing_value)"
   ]
  },
  {
   "cell_type": "code",
   "execution_count": 137,
   "id": "fd4f8547-426f-4859-9031-2d366f916296",
   "metadata": {},
   "outputs": [
    {
     "data": {
      "text/plain": [
       "pandas.core.frame.DataFrame"
      ]
     },
     "execution_count": 137,
     "metadata": {},
     "output_type": "execute_result"
    }
   ],
   "source": [
    "type(X_training)"
   ]
  },
  {
   "cell_type": "code",
   "execution_count": 50,
   "id": "6a985d44-2c00-4f13-a045-49df6404f197",
   "metadata": {},
   "outputs": [],
   "source": [
    "#X_training = pd.Series(X_training)"
   ]
  },
  {
   "cell_type": "code",
   "execution_count": 51,
   "id": "baeca7e5-5a7d-4575-8255-d29ffba8206e",
   "metadata": {},
   "outputs": [],
   "source": [
    "#X_training = pd.DataFrame(X_training)"
   ]
  },
  {
   "cell_type": "code",
   "execution_count": 52,
   "id": "8443af74-1f00-4afe-b7ef-cab7443064c0",
   "metadata": {},
   "outputs": [],
   "source": [
    "#y_training = pd.Series(y_training)\n",
    "#y_training = pd.DataFrame(y_training)"
   ]
  },
  {
   "cell_type": "code",
   "execution_count": 138,
   "id": "8fbb2610-0346-499e-9bae-795a52b06326",
   "metadata": {},
   "outputs": [
    {
     "data": {
      "text/plain": [
       "pandas.core.frame.DataFrame"
      ]
     },
     "execution_count": 138,
     "metadata": {},
     "output_type": "execute_result"
    }
   ],
   "source": [
    "type(y_training)"
   ]
  },
  {
   "cell_type": "code",
   "execution_count": 54,
   "id": "02867adf-58af-44cc-a0b2-c029b63dfbf0",
   "metadata": {},
   "outputs": [],
   "source": [
    "# X_training = df1_treat_missing_value.drop(['RainTomorrow'],axis=1)\n",
    "# y_training = df1_treat_missing_value['RainTomorrow'"
   ]
  },
  {
   "cell_type": "code",
   "execution_count": 55,
   "id": "36358854-2b24-407a-b6e8-dc5cd99b2280",
   "metadata": {},
   "outputs": [],
   "source": [
    "# def label_encoding(df1_treat_missing_value):\n",
    "#     \"\"\" Label encoding converting categorical variables to numerical variables\n",
    "#     Arg: df1_treat_missing_value\n",
    "#     Return: df1_label_encoder\"\"\"\n",
    "#     from sklearn.preprocessing import LabelEncoder\n",
    "#     l_encoder = LabelEncoder()\n",
    "#     df1_treat_missing_value['Location'] = l_encoder.fit_transform(df1_treat_missing_value['Location'])\n",
    "#     df1_treat_missing_value['WindGustDir'] = l_encoder.fit_transform(df1_treat_missing_value['WindGustDir'])\n",
    "#     df1_treat_missing_value['WindDir9am'] = l_encoder.fit_transform(df1_treat_missing_value['WindDir9am'])\n",
    "#     df1_treat_missing_value['WindDir3pm'] = l_encoder.fit_transform(df1_treat_missing_value['WindDir3pm'])\n",
    "#     df1_treat_missing_value['RainToday'] = l_encoder.fit_transform(df1_treat_missing_value['RainToday'])\n",
    "#     return df1_treat_missing_value"
   ]
  },
  {
   "cell_type": "code",
   "execution_count": 139,
   "id": "7c31324c-c42f-4875-95a1-697020079378",
   "metadata": {},
   "outputs": [],
   "source": [
    "def label_encoding(X_training):\n",
    "    \"\"\" Label encoding converting categorical variables to numerical variables\n",
    "    Arg: df1_treat_missing_value\n",
    "    Return: df1_label_encoder\"\"\"\n",
    "    from sklearn.preprocessing import LabelEncoder\n",
    "    l_encoder = LabelEncoder()\n",
    "    X_training['Location'] = l_encoder.fit_transform(X_training['Location'])\n",
    "    X_training['WindGustDir'] = l_encoder.fit_transform(X_training['WindGustDir'])\n",
    "    X_training['WindDir9am'] = l_encoder.fit_transform(X_training['WindDir9am'])\n",
    "    X_training['WindDir3pm'] = l_encoder.fit_transform(X_training['WindDir3pm'])\n",
    "    X_training['RainToday'] = l_encoder.fit_transform(X_training['RainToday'])\n",
    "    X_training0 = X_training.copy()\n",
    "    return X_training0"
   ]
  },
  {
   "cell_type": "code",
   "execution_count": 140,
   "id": "59cb0a1b-7d71-40df-9794-1ac612a13d60",
   "metadata": {},
   "outputs": [],
   "source": [
    "X_training0 = label_encoding(X_training)"
   ]
  },
  {
   "cell_type": "code",
   "execution_count": 141,
   "id": "333993f8",
   "metadata": {},
   "outputs": [
    {
     "data": {
      "text/html": [
       "<div>\n",
       "<style scoped>\n",
       "    .dataframe tbody tr th:only-of-type {\n",
       "        vertical-align: middle;\n",
       "    }\n",
       "\n",
       "    .dataframe tbody tr th {\n",
       "        vertical-align: top;\n",
       "    }\n",
       "\n",
       "    .dataframe thead th {\n",
       "        text-align: right;\n",
       "    }\n",
       "</style>\n",
       "<table border=\"1\" class=\"dataframe\">\n",
       "  <thead>\n",
       "    <tr style=\"text-align: right;\">\n",
       "      <th></th>\n",
       "      <th>Location</th>\n",
       "      <th>MinTemp</th>\n",
       "      <th>MaxTemp</th>\n",
       "      <th>Rainfall</th>\n",
       "      <th>Evaporation</th>\n",
       "      <th>Sunshine</th>\n",
       "      <th>WindGustDir</th>\n",
       "      <th>WindGustSpeed</th>\n",
       "      <th>WindDir9am</th>\n",
       "      <th>WindDir3pm</th>\n",
       "      <th>...</th>\n",
       "      <th>WindSpeed3pm</th>\n",
       "      <th>Humidity9am</th>\n",
       "      <th>Humidity3pm</th>\n",
       "      <th>Pressure9am</th>\n",
       "      <th>Pressure3pm</th>\n",
       "      <th>Cloud9am</th>\n",
       "      <th>Cloud3pm</th>\n",
       "      <th>Temp9am</th>\n",
       "      <th>Temp3pm</th>\n",
       "      <th>RainToday</th>\n",
       "    </tr>\n",
       "  </thead>\n",
       "  <tbody>\n",
       "    <tr>\n",
       "      <th>0</th>\n",
       "      <td>2</td>\n",
       "      <td>13.4</td>\n",
       "      <td>22.9</td>\n",
       "      <td>0.6</td>\n",
       "      <td>12.0</td>\n",
       "      <td>12.3</td>\n",
       "      <td>13</td>\n",
       "      <td>44.0</td>\n",
       "      <td>13</td>\n",
       "      <td>14</td>\n",
       "      <td>...</td>\n",
       "      <td>24.0</td>\n",
       "      <td>71.0</td>\n",
       "      <td>22.0</td>\n",
       "      <td>1007.7</td>\n",
       "      <td>1007.1</td>\n",
       "      <td>8.0</td>\n",
       "      <td>2.0</td>\n",
       "      <td>16.9</td>\n",
       "      <td>21.8</td>\n",
       "      <td>0</td>\n",
       "    </tr>\n",
       "    <tr>\n",
       "      <th>1</th>\n",
       "      <td>2</td>\n",
       "      <td>7.4</td>\n",
       "      <td>25.1</td>\n",
       "      <td>0.0</td>\n",
       "      <td>12.0</td>\n",
       "      <td>12.3</td>\n",
       "      <td>14</td>\n",
       "      <td>44.0</td>\n",
       "      <td>6</td>\n",
       "      <td>15</td>\n",
       "      <td>...</td>\n",
       "      <td>22.0</td>\n",
       "      <td>44.0</td>\n",
       "      <td>25.0</td>\n",
       "      <td>1010.6</td>\n",
       "      <td>1007.8</td>\n",
       "      <td>8.0</td>\n",
       "      <td>2.0</td>\n",
       "      <td>17.2</td>\n",
       "      <td>24.3</td>\n",
       "      <td>0</td>\n",
       "    </tr>\n",
       "    <tr>\n",
       "      <th>2</th>\n",
       "      <td>2</td>\n",
       "      <td>12.9</td>\n",
       "      <td>25.7</td>\n",
       "      <td>0.0</td>\n",
       "      <td>12.0</td>\n",
       "      <td>12.3</td>\n",
       "      <td>15</td>\n",
       "      <td>46.0</td>\n",
       "      <td>13</td>\n",
       "      <td>15</td>\n",
       "      <td>...</td>\n",
       "      <td>26.0</td>\n",
       "      <td>38.0</td>\n",
       "      <td>30.0</td>\n",
       "      <td>1007.6</td>\n",
       "      <td>1008.7</td>\n",
       "      <td>8.0</td>\n",
       "      <td>2.0</td>\n",
       "      <td>21.0</td>\n",
       "      <td>23.2</td>\n",
       "      <td>0</td>\n",
       "    </tr>\n",
       "    <tr>\n",
       "      <th>3</th>\n",
       "      <td>2</td>\n",
       "      <td>9.2</td>\n",
       "      <td>28.0</td>\n",
       "      <td>0.0</td>\n",
       "      <td>12.0</td>\n",
       "      <td>12.3</td>\n",
       "      <td>4</td>\n",
       "      <td>24.0</td>\n",
       "      <td>9</td>\n",
       "      <td>0</td>\n",
       "      <td>...</td>\n",
       "      <td>9.0</td>\n",
       "      <td>45.0</td>\n",
       "      <td>16.0</td>\n",
       "      <td>1017.6</td>\n",
       "      <td>1012.8</td>\n",
       "      <td>8.0</td>\n",
       "      <td>2.0</td>\n",
       "      <td>18.1</td>\n",
       "      <td>26.5</td>\n",
       "      <td>0</td>\n",
       "    </tr>\n",
       "    <tr>\n",
       "      <th>4</th>\n",
       "      <td>2</td>\n",
       "      <td>17.5</td>\n",
       "      <td>32.3</td>\n",
       "      <td>1.0</td>\n",
       "      <td>12.0</td>\n",
       "      <td>12.3</td>\n",
       "      <td>13</td>\n",
       "      <td>41.0</td>\n",
       "      <td>1</td>\n",
       "      <td>7</td>\n",
       "      <td>...</td>\n",
       "      <td>20.0</td>\n",
       "      <td>82.0</td>\n",
       "      <td>33.0</td>\n",
       "      <td>1010.8</td>\n",
       "      <td>1006.0</td>\n",
       "      <td>7.0</td>\n",
       "      <td>8.0</td>\n",
       "      <td>17.8</td>\n",
       "      <td>29.7</td>\n",
       "      <td>0</td>\n",
       "    </tr>\n",
       "    <tr>\n",
       "      <th>...</th>\n",
       "      <td>...</td>\n",
       "      <td>...</td>\n",
       "      <td>...</td>\n",
       "      <td>...</td>\n",
       "      <td>...</td>\n",
       "      <td>...</td>\n",
       "      <td>...</td>\n",
       "      <td>...</td>\n",
       "      <td>...</td>\n",
       "      <td>...</td>\n",
       "      <td>...</td>\n",
       "      <td>...</td>\n",
       "      <td>...</td>\n",
       "      <td>...</td>\n",
       "      <td>...</td>\n",
       "      <td>...</td>\n",
       "      <td>...</td>\n",
       "      <td>...</td>\n",
       "      <td>...</td>\n",
       "      <td>...</td>\n",
       "      <td>...</td>\n",
       "    </tr>\n",
       "    <tr>\n",
       "      <th>145454</th>\n",
       "      <td>41</td>\n",
       "      <td>3.5</td>\n",
       "      <td>21.8</td>\n",
       "      <td>0.0</td>\n",
       "      <td>6.4</td>\n",
       "      <td>10.7</td>\n",
       "      <td>0</td>\n",
       "      <td>31.0</td>\n",
       "      <td>2</td>\n",
       "      <td>0</td>\n",
       "      <td>...</td>\n",
       "      <td>13.0</td>\n",
       "      <td>59.0</td>\n",
       "      <td>27.0</td>\n",
       "      <td>1024.7</td>\n",
       "      <td>1021.2</td>\n",
       "      <td>8.0</td>\n",
       "      <td>7.0</td>\n",
       "      <td>9.4</td>\n",
       "      <td>20.9</td>\n",
       "      <td>0</td>\n",
       "    </tr>\n",
       "    <tr>\n",
       "      <th>145455</th>\n",
       "      <td>41</td>\n",
       "      <td>2.8</td>\n",
       "      <td>23.4</td>\n",
       "      <td>0.0</td>\n",
       "      <td>6.4</td>\n",
       "      <td>10.7</td>\n",
       "      <td>0</td>\n",
       "      <td>31.0</td>\n",
       "      <td>9</td>\n",
       "      <td>1</td>\n",
       "      <td>...</td>\n",
       "      <td>11.0</td>\n",
       "      <td>51.0</td>\n",
       "      <td>24.0</td>\n",
       "      <td>1024.6</td>\n",
       "      <td>1020.3</td>\n",
       "      <td>8.0</td>\n",
       "      <td>7.0</td>\n",
       "      <td>10.1</td>\n",
       "      <td>22.4</td>\n",
       "      <td>0</td>\n",
       "    </tr>\n",
       "    <tr>\n",
       "      <th>145456</th>\n",
       "      <td>41</td>\n",
       "      <td>3.6</td>\n",
       "      <td>25.3</td>\n",
       "      <td>0.0</td>\n",
       "      <td>6.4</td>\n",
       "      <td>10.7</td>\n",
       "      <td>6</td>\n",
       "      <td>22.0</td>\n",
       "      <td>9</td>\n",
       "      <td>3</td>\n",
       "      <td>...</td>\n",
       "      <td>9.0</td>\n",
       "      <td>56.0</td>\n",
       "      <td>21.0</td>\n",
       "      <td>1023.5</td>\n",
       "      <td>1019.1</td>\n",
       "      <td>8.0</td>\n",
       "      <td>7.0</td>\n",
       "      <td>10.9</td>\n",
       "      <td>24.5</td>\n",
       "      <td>0</td>\n",
       "    </tr>\n",
       "    <tr>\n",
       "      <th>145457</th>\n",
       "      <td>41</td>\n",
       "      <td>5.4</td>\n",
       "      <td>26.9</td>\n",
       "      <td>0.0</td>\n",
       "      <td>6.4</td>\n",
       "      <td>10.7</td>\n",
       "      <td>3</td>\n",
       "      <td>37.0</td>\n",
       "      <td>9</td>\n",
       "      <td>14</td>\n",
       "      <td>...</td>\n",
       "      <td>9.0</td>\n",
       "      <td>53.0</td>\n",
       "      <td>24.0</td>\n",
       "      <td>1021.0</td>\n",
       "      <td>1016.8</td>\n",
       "      <td>8.0</td>\n",
       "      <td>7.0</td>\n",
       "      <td>12.5</td>\n",
       "      <td>26.1</td>\n",
       "      <td>0</td>\n",
       "    </tr>\n",
       "    <tr>\n",
       "      <th>145458</th>\n",
       "      <td>41</td>\n",
       "      <td>7.8</td>\n",
       "      <td>27.0</td>\n",
       "      <td>0.0</td>\n",
       "      <td>6.4</td>\n",
       "      <td>10.7</td>\n",
       "      <td>9</td>\n",
       "      <td>28.0</td>\n",
       "      <td>10</td>\n",
       "      <td>3</td>\n",
       "      <td>...</td>\n",
       "      <td>7.0</td>\n",
       "      <td>51.0</td>\n",
       "      <td>24.0</td>\n",
       "      <td>1019.4</td>\n",
       "      <td>1016.5</td>\n",
       "      <td>3.0</td>\n",
       "      <td>2.0</td>\n",
       "      <td>15.1</td>\n",
       "      <td>26.0</td>\n",
       "      <td>0</td>\n",
       "    </tr>\n",
       "  </tbody>\n",
       "</table>\n",
       "<p>142193 rows × 21 columns</p>\n",
       "</div>"
      ],
      "text/plain": [
       "        Location  MinTemp  MaxTemp  Rainfall  Evaporation  Sunshine   \n",
       "0              2     13.4     22.9       0.6         12.0      12.3  \\\n",
       "1              2      7.4     25.1       0.0         12.0      12.3   \n",
       "2              2     12.9     25.7       0.0         12.0      12.3   \n",
       "3              2      9.2     28.0       0.0         12.0      12.3   \n",
       "4              2     17.5     32.3       1.0         12.0      12.3   \n",
       "...          ...      ...      ...       ...          ...       ...   \n",
       "145454        41      3.5     21.8       0.0          6.4      10.7   \n",
       "145455        41      2.8     23.4       0.0          6.4      10.7   \n",
       "145456        41      3.6     25.3       0.0          6.4      10.7   \n",
       "145457        41      5.4     26.9       0.0          6.4      10.7   \n",
       "145458        41      7.8     27.0       0.0          6.4      10.7   \n",
       "\n",
       "        WindGustDir  WindGustSpeed  WindDir9am  WindDir3pm  ...  WindSpeed3pm   \n",
       "0                13           44.0          13          14  ...          24.0  \\\n",
       "1                14           44.0           6          15  ...          22.0   \n",
       "2                15           46.0          13          15  ...          26.0   \n",
       "3                 4           24.0           9           0  ...           9.0   \n",
       "4                13           41.0           1           7  ...          20.0   \n",
       "...             ...            ...         ...         ...  ...           ...   \n",
       "145454            0           31.0           2           0  ...          13.0   \n",
       "145455            0           31.0           9           1  ...          11.0   \n",
       "145456            6           22.0           9           3  ...           9.0   \n",
       "145457            3           37.0           9          14  ...           9.0   \n",
       "145458            9           28.0          10           3  ...           7.0   \n",
       "\n",
       "        Humidity9am  Humidity3pm  Pressure9am  Pressure3pm  Cloud9am   \n",
       "0              71.0         22.0       1007.7       1007.1       8.0  \\\n",
       "1              44.0         25.0       1010.6       1007.8       8.0   \n",
       "2              38.0         30.0       1007.6       1008.7       8.0   \n",
       "3              45.0         16.0       1017.6       1012.8       8.0   \n",
       "4              82.0         33.0       1010.8       1006.0       7.0   \n",
       "...             ...          ...          ...          ...       ...   \n",
       "145454         59.0         27.0       1024.7       1021.2       8.0   \n",
       "145455         51.0         24.0       1024.6       1020.3       8.0   \n",
       "145456         56.0         21.0       1023.5       1019.1       8.0   \n",
       "145457         53.0         24.0       1021.0       1016.8       8.0   \n",
       "145458         51.0         24.0       1019.4       1016.5       3.0   \n",
       "\n",
       "        Cloud3pm  Temp9am  Temp3pm  RainToday  \n",
       "0            2.0     16.9     21.8          0  \n",
       "1            2.0     17.2     24.3          0  \n",
       "2            2.0     21.0     23.2          0  \n",
       "3            2.0     18.1     26.5          0  \n",
       "4            8.0     17.8     29.7          0  \n",
       "...          ...      ...      ...        ...  \n",
       "145454       7.0      9.4     20.9          0  \n",
       "145455       7.0     10.1     22.4          0  \n",
       "145456       7.0     10.9     24.5          0  \n",
       "145457       7.0     12.5     26.1          0  \n",
       "145458       2.0     15.1     26.0          0  \n",
       "\n",
       "[142193 rows x 21 columns]"
      ]
     },
     "execution_count": 141,
     "metadata": {},
     "output_type": "execute_result"
    }
   ],
   "source": [
    "X_training0"
   ]
  },
  {
   "cell_type": "code",
   "execution_count": 147,
   "id": "945711ef-0865-43fe-8ccd-29ad1b6a8ab9",
   "metadata": {},
   "outputs": [],
   "source": [
    "def scaling_data(X_training0):\n",
    "    \"\"\" Scaling data is used to standardized data.\n",
    "    Arg: df1_label_encoder\n",
    "    Return: df1_scaled_data\"\"\"\n",
    "    from sklearn.preprocessing import StandardScaler\n",
    "    scaler = StandardScaler()\n",
    "    df1_scaled_data = scaler.fit_transform(X_training0)\n",
    "    df1_scaled_data1 = pd.DataFrame(df1_scaled_data)\n",
    "    return df1_scaled_data\n",
    "    return df1_scaled_data1"
   ]
  },
  {
   "cell_type": "code",
   "execution_count": 148,
   "id": "45c619d0-9970-4f96-99a2-e247d1e760b5",
   "metadata": {},
   "outputs": [],
   "source": [
    "df1_scaled_data = scaling_data(X_training0)"
   ]
  },
  {
   "cell_type": "code",
   "execution_count": 149,
   "id": "7d0dc581",
   "metadata": {},
   "outputs": [
    {
     "data": {
      "text/plain": [
       "numpy.ndarray"
      ]
     },
     "execution_count": 149,
     "metadata": {},
     "output_type": "execute_result"
    }
   ],
   "source": [
    "type(df1_scaled_data)"
   ]
  },
  {
   "cell_type": "code",
   "execution_count": 150,
   "id": "3ce64f27",
   "metadata": {},
   "outputs": [],
   "source": [
    "df1_scaled_data1 = scaling_data(X_training0)"
   ]
  },
  {
   "cell_type": "code",
   "execution_count": 151,
   "id": "5f3e1fbc",
   "metadata": {},
   "outputs": [
    {
     "data": {
      "text/plain": [
       "numpy.ndarray"
      ]
     },
     "execution_count": 151,
     "metadata": {},
     "output_type": "execute_result"
    }
   ],
   "source": [
    "type(df1_scaled_data1)"
   ]
  },
  {
   "cell_type": "code",
   "execution_count": 152,
   "id": "c6a5d4ba-d751-424b-bd5f-b6af9d948d07",
   "metadata": {},
   "outputs": [],
   "source": [
    "def train_test_splitting(df1_scaled_data1,y_training):\n",
    "    \"\"\" data split into training and testing\n",
    "    Args: df1_scaled_data,y_training\n",
    "    Return: X_train,X_test,y_train,y_test\"\"\"\n",
    "\n",
    "    from sklearn.model_selection import train_test_split\n",
    "    X_train,X_test,y_train,y_test = train_test_split(df1_scaled_data1,y_training,random_state=0,test_size=0.20)\n",
    "    return X_train,X_test,y_train,y_test\n",
    "# X_train = train_test_splitting(df1_scaled_data1,y_training)\n",
    "# X_test = train_test_splitting(df1_scaled_data1,y_training)\n",
    "# y_train = train_test_splitting(df1_scaled_data1,y_training)\n",
    "# y_test = train_test_splitting(df1_scaled_data1,y_training)"
   ]
  },
  {
   "cell_type": "code",
   "execution_count": 157,
   "id": "ae16a9b4",
   "metadata": {},
   "outputs": [],
   "source": [
    "X_train = train_test_splitting(df1_scaled_data1,y_training)\n",
    "X_test = train_test_splitting(df1_scaled_data1,y_training)\n",
    "y_train = train_test_splitting(df1_scaled_data1,y_training)\n",
    "y_test = train_test_splitting(df1_scaled_data1,y_training)"
   ]
  },
  {
   "cell_type": "code",
   "execution_count": 153,
   "id": "48e8269b",
   "metadata": {},
   "outputs": [
    {
     "data": {
      "text/plain": [
       "0    [[1.5634358297378823, 0.26717084653716766, -0....\n",
       "1    [[-1.1055808168950956, 0.8137014192853136, 0.8...\n",
       "2                Location  MinTemp  MaxTemp  Rainfa...\n",
       "3                 Location  MinTemp  MaxTemp  Rainf...\n",
       "dtype: object"
      ]
     },
     "execution_count": 153,
     "metadata": {},
     "output_type": "execute_result"
    }
   ],
   "source": [
    "X_train"
   ]
  },
  {
   "cell_type": "code",
   "execution_count": 154,
   "id": "14c84206",
   "metadata": {},
   "outputs": [
    {
     "data": {
      "text/plain": [
       "0    [[1.5634358297378823, 0.26717084653716766, -0....\n",
       "1    [[-1.1055808168950956, 0.8137014192853136, 0.8...\n",
       "2                Location  MinTemp  MaxTemp  Rainfa...\n",
       "3                 Location  MinTemp  MaxTemp  Rainf...\n",
       "dtype: object"
      ]
     },
     "execution_count": 154,
     "metadata": {},
     "output_type": "execute_result"
    }
   ],
   "source": [
    "y_train"
   ]
  },
  {
   "cell_type": "code",
   "execution_count": 155,
   "id": "7d4e19a2-3006-4e0e-98b6-513698c0f045",
   "metadata": {},
   "outputs": [
    {
     "data": {
      "text/plain": [
       "(array([[ 1.56343583,  0.26717085, -0.08816116, ...,  0.28200287,\n",
       "         -0.18631331, -0.53717035],\n",
       "        [-1.10558082,  1.59445938,  0.86716057, ...,  1.44922523,\n",
       "          0.83373439,  1.86160685],\n",
       "        [-1.45676722, -0.38866584,  1.82248231, ...,  1.7717472 ,\n",
       "          1.91124956, -0.53717035],\n",
       "        ...,\n",
       "        [-1.66747906, -0.04513234, -0.79060362, ..., -0.37839926,\n",
       "         -0.66041999,  1.86160685],\n",
       "        [ 0.50987663, -0.70096903,  0.3894997 , ..., -0.39375745,\n",
       "          0.41709518, -0.53717035],\n",
       "        [ 1.63367311,  1.21969556,  1.1621864 , ...,  1.40315066,\n",
       "          0.15849154, -0.53717035]]),\n",
       " array([[-1.10558082,  0.81370142,  0.81096518, ...,  1.40315066,\n",
       "          0.87683499, -0.53717035],\n",
       "        [-1.24605538, -0.84150546, -1.24016679, ..., -1.00808501,\n",
       "         -1.29256223, -0.53717035],\n",
       "        [ 1.35272399, -0.3262052 , -1.0996783 , ..., -0.71627942,\n",
       "         -1.24946162,  1.86160685],\n",
       "        ...,\n",
       "        [-0.4734453 , -0.77904482,  0.05232733, ..., -0.50126477,\n",
       "          0.1297578 , -0.53717035],\n",
       "        [-0.68415714,  1.2821562 ,  0.60023244, ...,  0.74274854,\n",
       "          0.27342649, -0.53717035],\n",
       "        [-0.40320802, -0.4823568 , -1.29636218, ..., -1.0234432 ,\n",
       "         -1.22072788,  1.86160685]]),\n",
       "             Location  MinTemp  MaxTemp  Rainfall  Evaporation  Sunshine   \n",
       " 113462   Witchcliffe     13.9     22.6       0.2          8.4       1.5  \\\n",
       " 89638         Cairns     22.4     29.4       2.0          6.0       6.3   \n",
       " 138130  AliceSprings      9.7     36.2       0.0         11.4      12.3   \n",
       " 87898         Cairns     20.5     30.1       0.0          8.8      11.1   \n",
       " 16484      Newcastle     16.8     29.2       0.0         13.0      10.6   \n",
       " ...              ...      ...      ...       ...          ...       ...   \n",
       " 43204     Wollongong      9.4     17.6       0.0         47.0       7.4   \n",
       " 100206  MountGambier      1.2     20.2       0.0          2.0      12.4   \n",
       " 98494       Adelaide     11.9     17.6       1.2          2.0       6.7   \n",
       " 120883         Perth      7.7     26.0       0.0         10.4      11.2   \n",
       " 44785     Wollongong     20.0     31.5       0.0         47.0       7.4   \n",
       " \n",
       "        WindGustDir  WindGustSpeed WindDir9am WindDir3pm  ...  WindSpeed3pm   \n",
       " 113462           S           41.0        SSE          S  ...          28.0  \\\n",
       " 89638          ENE           33.0        SSE        ENE  ...          24.0   \n",
       " 138130           E           31.0         NE          N  ...          11.0   \n",
       " 87898          ESE           37.0        SSE          E  ...          19.0   \n",
       " 16484            W           19.0         NE         SE  ...           7.0   \n",
       " ...            ...            ...        ...        ...  ...           ...   \n",
       " 43204          SSW           35.0        ENE          E  ...          17.0   \n",
       " 100206           N           33.0         NE         NW  ...          13.0   \n",
       " 98494          WSW           39.0         SW        WSW  ...          20.0   \n",
       " 120883         SSE           31.0         SE         SE  ...          13.0   \n",
       " 44785          WNW           63.0        WNW        SSW  ...          20.0   \n",
       " \n",
       "         Humidity9am  Humidity3pm  Pressure9am  Pressure3pm  Cloud9am   \n",
       " 113462         65.0         55.0       1013.9       1013.4       3.0  \\\n",
       " 89638          71.0         59.0       1016.9       1013.1       7.0   \n",
       " 138130          6.0          2.0       1018.1       1013.6       1.0   \n",
       " 87898          59.0         53.0       1014.1       1010.8       2.0   \n",
       " 16484          72.0         53.0       1021.0       1017.7       5.0   \n",
       " ...             ...          ...          ...          ...       ...   \n",
       " 43204          62.0         80.0       1022.2       1019.9       6.0   \n",
       " 100206         69.0         33.0       1022.0       1017.9       0.0   \n",
       " 98494          67.0         38.0       1022.2       1022.8       8.0   \n",
       " 120883         58.0         25.0       1025.5       1023.0       0.0   \n",
       " 44785          46.0         79.0       1021.1       1020.7       6.0   \n",
       " \n",
       "         Cloud3pm  Temp9am  Temp3pm  RainToday  \n",
       " 113462       8.0     18.8     20.4         No  \n",
       " 89638        5.0     26.4     27.5        Yes  \n",
       " 138130       1.0     28.5     35.0         No  \n",
       " 87898        3.0     27.3     29.4         No  \n",
       " 16484        8.0     22.2     27.0         No  \n",
       " ...          ...      ...      ...        ...  \n",
       " 43204        8.0     16.3     16.2         No  \n",
       " 100206       1.0     11.2     19.7         No  \n",
       " 98494        8.0     14.5     17.1        Yes  \n",
       " 120883       0.0     14.4     24.6         No  \n",
       " 44785        8.0     26.1     22.8         No  \n",
       " \n",
       " [113754 rows x 21 columns],\n",
       "              Location  MinTemp  MaxTemp  Rainfall  Evaporation  Sunshine   \n",
       " 88578          Cairns     17.4     29.0       0.0          3.6      11.1  \\\n",
       " 59016         Bendigo      6.8     14.4       0.8          0.8       2.8   \n",
       " 127049        Walpole     10.1     15.4      14.6          1.6       7.9   \n",
       " 120886          Perth     14.4     33.4       0.0          8.0      11.6   \n",
       " 136649   AliceSprings      6.8     14.3      10.0          0.2       7.3   \n",
       " ...               ...      ...      ...       ...          ...       ...   \n",
       " 35984   SydneyAirport     16.3     23.8       0.0          7.4      12.5   \n",
       " 49843     Tuggeranong     17.2     24.8       0.8          1.6       2.8   \n",
       " 134857     Launceston      7.2     23.6       0.0          0.8       5.4   \n",
       " 92324       GoldCoast     20.4     27.5       0.0         13.6       8.1   \n",
       " 68289       Melbourne      9.1     14.0       4.8          1.2       1.5   \n",
       " \n",
       "        WindGustDir  WindGustSpeed WindDir9am WindDir3pm  ...  WindSpeed3pm   \n",
       " 88578          NNE           33.0         SE        NNE  ...          19.0  \\\n",
       " 59016            S           46.0         SW          S  ...          22.0   \n",
       " 127049         WSW           31.0         SW        SSE  ...           9.0   \n",
       " 120886          SW           41.0        ESE         SW  ...          17.0   \n",
       " 136649           E           28.0        ENE        ESE  ...          13.0   \n",
       " ...            ...            ...        ...        ...  ...           ...   \n",
       " 35984            S           37.0          S         SE  ...          26.0   \n",
       " 49843          WNW           43.0        WNW         NW  ...          17.0   \n",
       " 134857          NW           31.0         NE        NNW  ...          17.0   \n",
       " 92324          ENE           33.0        SSE        ENE  ...          19.0   \n",
       " 68289           SW           39.0          N        WSW  ...          19.0   \n",
       " \n",
       "         Humidity9am  Humidity3pm  Pressure9am  Pressure3pm  Cloud9am   \n",
       " 88578          63.0         61.0       1013.1       1008.9       1.0  \\\n",
       " 59016          80.0         55.0       1010.2       1012.4       5.0   \n",
       " 127049         70.0         61.0       1014.4       1016.1       1.0   \n",
       " 120886         40.0         23.0       1019.2       1016.6       1.0   \n",
       " 136649         92.0         47.0       1027.6       1024.4       7.0   \n",
       " ...             ...          ...          ...          ...       ...   \n",
       " 35984          57.0         40.0       1022.6       1020.9       6.0   \n",
       " 49843          52.0         38.0       1002.7       1005.6       8.0   \n",
       " 134857         57.0         36.0       1027.0       1024.5       7.0   \n",
       " 92324          90.0         76.0       1018.9       1017.1       4.0   \n",
       " 68289          91.0         78.0       1015.7       1015.1       8.0   \n",
       " \n",
       "         Cloud3pm  Temp9am  Temp3pm  RainToday  \n",
       " 88578        0.0     26.1     27.8         No  \n",
       " 59016        4.0     10.4     12.7         No  \n",
       " 127049       3.0     12.3     13.0        Yes  \n",
       " 120886       0.0     23.0     32.3         No  \n",
       " 136649       1.0      7.3     13.7        Yes  \n",
       " ...          ...      ...      ...        ...  \n",
       " 35984        1.0     19.8     23.4         No  \n",
       " 49843        8.0     22.9     22.2         No  \n",
       " 134857       1.0     13.7     22.6         No  \n",
       " 92324        2.0     21.8     23.6         No  \n",
       " 68289        6.0     10.3     13.2        Yes  \n",
       " \n",
       " [28439 rows x 21 columns])"
      ]
     },
     "execution_count": 155,
     "metadata": {},
     "output_type": "execute_result"
    }
   ],
   "source": [
    "X_test"
   ]
  },
  {
   "cell_type": "code",
   "execution_count": 156,
   "id": "d87aa16a-50c2-47c7-9024-241a1eda8e10",
   "metadata": {},
   "outputs": [
    {
     "data": {
      "text/plain": [
       "(array([[ 1.56343583,  0.26717085, -0.08816116, ...,  0.28200287,\n",
       "         -0.18631331, -0.53717035],\n",
       "        [-1.10558082,  1.59445938,  0.86716057, ...,  1.44922523,\n",
       "          0.83373439,  1.86160685],\n",
       "        [-1.45676722, -0.38866584,  1.82248231, ...,  1.7717472 ,\n",
       "          1.91124956, -0.53717035],\n",
       "        ...,\n",
       "        [-1.66747906, -0.04513234, -0.79060362, ..., -0.37839926,\n",
       "         -0.66041999,  1.86160685],\n",
       "        [ 0.50987663, -0.70096903,  0.3894997 , ..., -0.39375745,\n",
       "          0.41709518, -0.53717035],\n",
       "        [ 1.63367311,  1.21969556,  1.1621864 , ...,  1.40315066,\n",
       "          0.15849154, -0.53717035]]),\n",
       " array([[-1.10558082,  0.81370142,  0.81096518, ...,  1.40315066,\n",
       "          0.87683499, -0.53717035],\n",
       "        [-1.24605538, -0.84150546, -1.24016679, ..., -1.00808501,\n",
       "         -1.29256223, -0.53717035],\n",
       "        [ 1.35272399, -0.3262052 , -1.0996783 , ..., -0.71627942,\n",
       "         -1.24946162,  1.86160685],\n",
       "        ...,\n",
       "        [-0.4734453 , -0.77904482,  0.05232733, ..., -0.50126477,\n",
       "          0.1297578 , -0.53717035],\n",
       "        [-0.68415714,  1.2821562 ,  0.60023244, ...,  0.74274854,\n",
       "          0.27342649, -0.53717035],\n",
       "        [-0.40320802, -0.4823568 , -1.29636218, ..., -1.0234432 ,\n",
       "         -1.22072788,  1.86160685]]),\n",
       "             Location  MinTemp  MaxTemp  Rainfall  Evaporation  Sunshine   \n",
       " 113462   Witchcliffe     13.9     22.6       0.2          8.4       1.5  \\\n",
       " 89638         Cairns     22.4     29.4       2.0          6.0       6.3   \n",
       " 138130  AliceSprings      9.7     36.2       0.0         11.4      12.3   \n",
       " 87898         Cairns     20.5     30.1       0.0          8.8      11.1   \n",
       " 16484      Newcastle     16.8     29.2       0.0         13.0      10.6   \n",
       " ...              ...      ...      ...       ...          ...       ...   \n",
       " 43204     Wollongong      9.4     17.6       0.0         47.0       7.4   \n",
       " 100206  MountGambier      1.2     20.2       0.0          2.0      12.4   \n",
       " 98494       Adelaide     11.9     17.6       1.2          2.0       6.7   \n",
       " 120883         Perth      7.7     26.0       0.0         10.4      11.2   \n",
       " 44785     Wollongong     20.0     31.5       0.0         47.0       7.4   \n",
       " \n",
       "        WindGustDir  WindGustSpeed WindDir9am WindDir3pm  ...  WindSpeed3pm   \n",
       " 113462           S           41.0        SSE          S  ...          28.0  \\\n",
       " 89638          ENE           33.0        SSE        ENE  ...          24.0   \n",
       " 138130           E           31.0         NE          N  ...          11.0   \n",
       " 87898          ESE           37.0        SSE          E  ...          19.0   \n",
       " 16484            W           19.0         NE         SE  ...           7.0   \n",
       " ...            ...            ...        ...        ...  ...           ...   \n",
       " 43204          SSW           35.0        ENE          E  ...          17.0   \n",
       " 100206           N           33.0         NE         NW  ...          13.0   \n",
       " 98494          WSW           39.0         SW        WSW  ...          20.0   \n",
       " 120883         SSE           31.0         SE         SE  ...          13.0   \n",
       " 44785          WNW           63.0        WNW        SSW  ...          20.0   \n",
       " \n",
       "         Humidity9am  Humidity3pm  Pressure9am  Pressure3pm  Cloud9am   \n",
       " 113462         65.0         55.0       1013.9       1013.4       3.0  \\\n",
       " 89638          71.0         59.0       1016.9       1013.1       7.0   \n",
       " 138130          6.0          2.0       1018.1       1013.6       1.0   \n",
       " 87898          59.0         53.0       1014.1       1010.8       2.0   \n",
       " 16484          72.0         53.0       1021.0       1017.7       5.0   \n",
       " ...             ...          ...          ...          ...       ...   \n",
       " 43204          62.0         80.0       1022.2       1019.9       6.0   \n",
       " 100206         69.0         33.0       1022.0       1017.9       0.0   \n",
       " 98494          67.0         38.0       1022.2       1022.8       8.0   \n",
       " 120883         58.0         25.0       1025.5       1023.0       0.0   \n",
       " 44785          46.0         79.0       1021.1       1020.7       6.0   \n",
       " \n",
       "         Cloud3pm  Temp9am  Temp3pm  RainToday  \n",
       " 113462       8.0     18.8     20.4         No  \n",
       " 89638        5.0     26.4     27.5        Yes  \n",
       " 138130       1.0     28.5     35.0         No  \n",
       " 87898        3.0     27.3     29.4         No  \n",
       " 16484        8.0     22.2     27.0         No  \n",
       " ...          ...      ...      ...        ...  \n",
       " 43204        8.0     16.3     16.2         No  \n",
       " 100206       1.0     11.2     19.7         No  \n",
       " 98494        8.0     14.5     17.1        Yes  \n",
       " 120883       0.0     14.4     24.6         No  \n",
       " 44785        8.0     26.1     22.8         No  \n",
       " \n",
       " [113754 rows x 21 columns],\n",
       "              Location  MinTemp  MaxTemp  Rainfall  Evaporation  Sunshine   \n",
       " 88578          Cairns     17.4     29.0       0.0          3.6      11.1  \\\n",
       " 59016         Bendigo      6.8     14.4       0.8          0.8       2.8   \n",
       " 127049        Walpole     10.1     15.4      14.6          1.6       7.9   \n",
       " 120886          Perth     14.4     33.4       0.0          8.0      11.6   \n",
       " 136649   AliceSprings      6.8     14.3      10.0          0.2       7.3   \n",
       " ...               ...      ...      ...       ...          ...       ...   \n",
       " 35984   SydneyAirport     16.3     23.8       0.0          7.4      12.5   \n",
       " 49843     Tuggeranong     17.2     24.8       0.8          1.6       2.8   \n",
       " 134857     Launceston      7.2     23.6       0.0          0.8       5.4   \n",
       " 92324       GoldCoast     20.4     27.5       0.0         13.6       8.1   \n",
       " 68289       Melbourne      9.1     14.0       4.8          1.2       1.5   \n",
       " \n",
       "        WindGustDir  WindGustSpeed WindDir9am WindDir3pm  ...  WindSpeed3pm   \n",
       " 88578          NNE           33.0         SE        NNE  ...          19.0  \\\n",
       " 59016            S           46.0         SW          S  ...          22.0   \n",
       " 127049         WSW           31.0         SW        SSE  ...           9.0   \n",
       " 120886          SW           41.0        ESE         SW  ...          17.0   \n",
       " 136649           E           28.0        ENE        ESE  ...          13.0   \n",
       " ...            ...            ...        ...        ...  ...           ...   \n",
       " 35984            S           37.0          S         SE  ...          26.0   \n",
       " 49843          WNW           43.0        WNW         NW  ...          17.0   \n",
       " 134857          NW           31.0         NE        NNW  ...          17.0   \n",
       " 92324          ENE           33.0        SSE        ENE  ...          19.0   \n",
       " 68289           SW           39.0          N        WSW  ...          19.0   \n",
       " \n",
       "         Humidity9am  Humidity3pm  Pressure9am  Pressure3pm  Cloud9am   \n",
       " 88578          63.0         61.0       1013.1       1008.9       1.0  \\\n",
       " 59016          80.0         55.0       1010.2       1012.4       5.0   \n",
       " 127049         70.0         61.0       1014.4       1016.1       1.0   \n",
       " 120886         40.0         23.0       1019.2       1016.6       1.0   \n",
       " 136649         92.0         47.0       1027.6       1024.4       7.0   \n",
       " ...             ...          ...          ...          ...       ...   \n",
       " 35984          57.0         40.0       1022.6       1020.9       6.0   \n",
       " 49843          52.0         38.0       1002.7       1005.6       8.0   \n",
       " 134857         57.0         36.0       1027.0       1024.5       7.0   \n",
       " 92324          90.0         76.0       1018.9       1017.1       4.0   \n",
       " 68289          91.0         78.0       1015.7       1015.1       8.0   \n",
       " \n",
       "         Cloud3pm  Temp9am  Temp3pm  RainToday  \n",
       " 88578        0.0     26.1     27.8         No  \n",
       " 59016        4.0     10.4     12.7         No  \n",
       " 127049       3.0     12.3     13.0        Yes  \n",
       " 120886       0.0     23.0     32.3         No  \n",
       " 136649       1.0      7.3     13.7        Yes  \n",
       " ...          ...      ...      ...        ...  \n",
       " 35984        1.0     19.8     23.4         No  \n",
       " 49843        8.0     22.9     22.2         No  \n",
       " 134857       1.0     13.7     22.6         No  \n",
       " 92324        2.0     21.8     23.6         No  \n",
       " 68289        6.0     10.3     13.2        Yes  \n",
       " \n",
       " [28439 rows x 21 columns])"
      ]
     },
     "execution_count": 156,
     "metadata": {},
     "output_type": "execute_result"
    }
   ],
   "source": [
    "y_test"
   ]
  },
  {
   "cell_type": "code",
   "execution_count": 130,
   "id": "c82d6561-60e8-4187-ae0e-47c4e8d99743",
   "metadata": {},
   "outputs": [
    {
     "data": {
      "text/html": [
       "<pre style=\"white-space:pre;overflow-x:auto;line-height:normal;font-family:Menlo,'DejaVu Sans Mono',consolas,'Courier New',monospace\"><span style=\"color: #800000; text-decoration-color: #800000\">╭─────────────────────────────── </span><span style=\"color: #800000; text-decoration-color: #800000; font-weight: bold\">Traceback </span><span style=\"color: #bf7f7f; text-decoration-color: #bf7f7f; font-weight: bold\">(most recent call last)</span><span style=\"color: #800000; text-decoration-color: #800000\"> ────────────────────────────────╮</span>\n",
       "<span style=\"color: #800000; text-decoration-color: #800000\">│</span> in <span style=\"color: #00ff00; text-decoration-color: #00ff00\">&lt;module&gt;</span>:<span style=\"color: #0000ff; text-decoration-color: #0000ff\">1</span>                                                                                    <span style=\"color: #800000; text-decoration-color: #800000\">│</span>\n",
       "<span style=\"color: #800000; text-decoration-color: #800000\">│</span>                                                                                                  <span style=\"color: #800000; text-decoration-color: #800000\">│</span>\n",
       "<span style=\"color: #800000; text-decoration-color: #800000\">│</span> <span style=\"color: #800000; text-decoration-color: #800000\">❱ </span>1 y_test.shape                                                                                 <span style=\"color: #800000; text-decoration-color: #800000\">│</span>\n",
       "<span style=\"color: #800000; text-decoration-color: #800000\">│</span>   <span style=\"color: #7f7f7f; text-decoration-color: #7f7f7f\">2 </span>                                                                                             <span style=\"color: #800000; text-decoration-color: #800000\">│</span>\n",
       "<span style=\"color: #800000; text-decoration-color: #800000\">╰──────────────────────────────────────────────────────────────────────────────────────────────────╯</span>\n",
       "<span style=\"color: #ff0000; text-decoration-color: #ff0000; font-weight: bold\">AttributeError: </span><span style=\"color: #008000; text-decoration-color: #008000\">'tuple'</span> object has no attribute <span style=\"color: #008000; text-decoration-color: #008000\">'shape'</span>\n",
       "</pre>\n"
      ],
      "text/plain": [
       "\u001b[31m╭─\u001b[0m\u001b[31m──────────────────────────────\u001b[0m\u001b[31m \u001b[0m\u001b[1;31mTraceback \u001b[0m\u001b[1;2;31m(most recent call last)\u001b[0m\u001b[31m \u001b[0m\u001b[31m───────────────────────────────\u001b[0m\u001b[31m─╮\u001b[0m\n",
       "\u001b[31m│\u001b[0m in \u001b[92m<module>\u001b[0m:\u001b[94m1\u001b[0m                                                                                    \u001b[31m│\u001b[0m\n",
       "\u001b[31m│\u001b[0m                                                                                                  \u001b[31m│\u001b[0m\n",
       "\u001b[31m│\u001b[0m \u001b[31m❱ \u001b[0m1 y_test.shape                                                                                 \u001b[31m│\u001b[0m\n",
       "\u001b[31m│\u001b[0m   \u001b[2m2 \u001b[0m                                                                                             \u001b[31m│\u001b[0m\n",
       "\u001b[31m╰──────────────────────────────────────────────────────────────────────────────────────────────────╯\u001b[0m\n",
       "\u001b[1;91mAttributeError: \u001b[0m\u001b[32m'tuple'\u001b[0m object has no attribute \u001b[32m'shape'\u001b[0m\n"
      ]
     },
     "metadata": {},
     "output_type": "display_data"
    }
   ],
   "source": [
    "y_test"
   ]
  },
  {
   "cell_type": "code",
   "execution_count": 64,
   "id": "9249fc5b-5c35-4f1d-8ef4-06177f84bb90",
   "metadata": {},
   "outputs": [
    {
     "data": {
      "text/plain": [
       "(28439, 21)"
      ]
     },
     "execution_count": 64,
     "metadata": {},
     "output_type": "execute_result"
    }
   ],
   "source": [
    "X_test.shape"
   ]
  },
  {
   "cell_type": "code",
   "execution_count": 106,
   "id": "903e3ebe",
   "metadata": {},
   "outputs": [
    {
     "data": {
      "text/html": [
       "<pre style=\"white-space:pre;overflow-x:auto;line-height:normal;font-family:Menlo,'DejaVu Sans Mono',consolas,'Courier New',monospace\"><span style=\"color: #800000; text-decoration-color: #800000\">╭─────────────────────────────── </span><span style=\"color: #800000; text-decoration-color: #800000; font-weight: bold\">Traceback </span><span style=\"color: #bf7f7f; text-decoration-color: #bf7f7f; font-weight: bold\">(most recent call last)</span><span style=\"color: #800000; text-decoration-color: #800000\"> ────────────────────────────────╮</span>\n",
       "<span style=\"color: #800000; text-decoration-color: #800000\">│</span> in <span style=\"color: #00ff00; text-decoration-color: #00ff00\">&lt;module&gt;</span>:<span style=\"color: #0000ff; text-decoration-color: #0000ff\">1</span>                                                                                    <span style=\"color: #800000; text-decoration-color: #800000\">│</span>\n",
       "<span style=\"color: #800000; text-decoration-color: #800000\">│</span>                                                                                                  <span style=\"color: #800000; text-decoration-color: #800000\">│</span>\n",
       "<span style=\"color: #800000; text-decoration-color: #800000\">│</span> <span style=\"color: #800000; text-decoration-color: #800000\">❱ </span>1 X_test = np.array(X_test)                                                                    <span style=\"color: #800000; text-decoration-color: #800000\">│</span>\n",
       "<span style=\"color: #800000; text-decoration-color: #800000\">│</span>   <span style=\"color: #7f7f7f; text-decoration-color: #7f7f7f\">2 </span>X_train = np.array(X_train)                                                                  <span style=\"color: #800000; text-decoration-color: #800000\">│</span>\n",
       "<span style=\"color: #800000; text-decoration-color: #800000\">│</span>   <span style=\"color: #7f7f7f; text-decoration-color: #7f7f7f\">3 </span>y_train = np.array(y_train)                                                                  <span style=\"color: #800000; text-decoration-color: #800000\">│</span>\n",
       "<span style=\"color: #800000; text-decoration-color: #800000\">│</span>   <span style=\"color: #7f7f7f; text-decoration-color: #7f7f7f\">4 </span>y_test = np.array(y_test)                                                                    <span style=\"color: #800000; text-decoration-color: #800000\">│</span>\n",
       "<span style=\"color: #800000; text-decoration-color: #800000\">╰──────────────────────────────────────────────────────────────────────────────────────────────────╯</span>\n",
       "<span style=\"color: #ff0000; text-decoration-color: #ff0000; font-weight: bold\">ValueError: </span>setting an array element with a sequence. The requested array has an inhomogeneous shape after <span style=\"color: #008080; text-decoration-color: #008080; font-weight: bold\">1</span> \n",
       "dimensions. The detected shape was <span style=\"font-weight: bold\">(</span><span style=\"color: #008080; text-decoration-color: #008080; font-weight: bold\">4</span>,<span style=\"font-weight: bold\">)</span> + inhomogeneous part.\n",
       "</pre>\n"
      ],
      "text/plain": [
       "\u001b[31m╭─\u001b[0m\u001b[31m──────────────────────────────\u001b[0m\u001b[31m \u001b[0m\u001b[1;31mTraceback \u001b[0m\u001b[1;2;31m(most recent call last)\u001b[0m\u001b[31m \u001b[0m\u001b[31m───────────────────────────────\u001b[0m\u001b[31m─╮\u001b[0m\n",
       "\u001b[31m│\u001b[0m in \u001b[92m<module>\u001b[0m:\u001b[94m1\u001b[0m                                                                                    \u001b[31m│\u001b[0m\n",
       "\u001b[31m│\u001b[0m                                                                                                  \u001b[31m│\u001b[0m\n",
       "\u001b[31m│\u001b[0m \u001b[31m❱ \u001b[0m1 X_test = np.array(X_test)                                                                    \u001b[31m│\u001b[0m\n",
       "\u001b[31m│\u001b[0m   \u001b[2m2 \u001b[0mX_train = np.array(X_train)                                                                  \u001b[31m│\u001b[0m\n",
       "\u001b[31m│\u001b[0m   \u001b[2m3 \u001b[0my_train = np.array(y_train)                                                                  \u001b[31m│\u001b[0m\n",
       "\u001b[31m│\u001b[0m   \u001b[2m4 \u001b[0my_test = np.array(y_test)                                                                    \u001b[31m│\u001b[0m\n",
       "\u001b[31m╰──────────────────────────────────────────────────────────────────────────────────────────────────╯\u001b[0m\n",
       "\u001b[1;91mValueError: \u001b[0msetting an array element with a sequence. The requested array has an inhomogeneous shape after \u001b[1;36m1\u001b[0m \n",
       "dimensions. The detected shape was \u001b[1m(\u001b[0m\u001b[1;36m4\u001b[0m,\u001b[1m)\u001b[0m + inhomogeneous part.\n"
      ]
     },
     "metadata": {},
     "output_type": "display_data"
    }
   ],
   "source": [
    "X_test = np.array(X_test)\n",
    "X_train = np.array(X_train)\n",
    "y_train = np.array(y_train)\n",
    "y_test = np.array(y_test)"
   ]
  },
  {
   "cell_type": "code",
   "execution_count": 160,
   "id": "729c00e5-8801-4aa3-a0d8-4f3467964b91",
   "metadata": {},
   "outputs": [
    {
     "data": {
      "text/html": [
       "<pre style=\"white-space:pre;overflow-x:auto;line-height:normal;font-family:Menlo,'DejaVu Sans Mono',consolas,'Courier New',monospace\"><span style=\"color: #800000; text-decoration-color: #800000\">╭─────────────────────────────── </span><span style=\"color: #800000; text-decoration-color: #800000; font-weight: bold\">Traceback </span><span style=\"color: #bf7f7f; text-decoration-color: #bf7f7f; font-weight: bold\">(most recent call last)</span><span style=\"color: #800000; text-decoration-color: #800000\"> ────────────────────────────────╮</span>\n",
       "<span style=\"color: #800000; text-decoration-color: #800000\">│</span> in <span style=\"color: #00ff00; text-decoration-color: #00ff00\">&lt;module&gt;</span>:<span style=\"color: #0000ff; text-decoration-color: #0000ff\">12</span>                                                                                   <span style=\"color: #800000; text-decoration-color: #800000\">│</span>\n",
       "<span style=\"color: #800000; text-decoration-color: #800000\">│</span>                                                                                                  <span style=\"color: #800000; text-decoration-color: #800000\">│</span>\n",
       "<span style=\"color: #800000; text-decoration-color: #800000\">│</span>   <span style=\"color: #7f7f7f; text-decoration-color: #7f7f7f\"> 9 </span><span style=\"color: #7f7f7f; text-decoration-color: #7f7f7f\">│   </span><span style=\"color: #7f7f7f; text-decoration-color: #7f7f7f\"># with open('Logistic_Regression.pkl','w') as f:</span>                                        <span style=\"color: #800000; text-decoration-color: #800000\">│</span>\n",
       "<span style=\"color: #800000; text-decoration-color: #800000\">│</span>   <span style=\"color: #7f7f7f; text-decoration-color: #7f7f7f\">10 </span><span style=\"color: #7f7f7f; text-decoration-color: #7f7f7f\">│   </span><span style=\"color: #7f7f7f; text-decoration-color: #7f7f7f\">#  pickle.dump(model,f)</span>                                                                 <span style=\"color: #800000; text-decoration-color: #800000\">│</span>\n",
       "<span style=\"color: #800000; text-decoration-color: #800000\">│</span>   <span style=\"color: #7f7f7f; text-decoration-color: #7f7f7f\">11 </span><span style=\"color: #7f7f7f; text-decoration-color: #7f7f7f\">│   </span><span style=\"color: #7f7f7f; text-decoration-color: #7f7f7f\"># return model</span>                                                                          <span style=\"color: #800000; text-decoration-color: #800000\">│</span>\n",
       "<span style=\"color: #800000; text-decoration-color: #800000\">│</span> <span style=\"color: #800000; text-decoration-color: #800000\">❱ </span>12 model = logregAlgorithm(X_train,X_test,y_train,y_test)                                      <span style=\"color: #800000; text-decoration-color: #800000\">│</span>\n",
       "<span style=\"color: #800000; text-decoration-color: #800000\">│</span>   <span style=\"color: #7f7f7f; text-decoration-color: #7f7f7f\">13 </span>                                                                                            <span style=\"color: #800000; text-decoration-color: #800000\">│</span>\n",
       "<span style=\"color: #800000; text-decoration-color: #800000\">│</span>                                                                                                  <span style=\"color: #800000; text-decoration-color: #800000\">│</span>\n",
       "<span style=\"color: #800000; text-decoration-color: #800000\">│</span> in <span style=\"color: #00ff00; text-decoration-color: #00ff00\">logregAlgorithm</span>:<span style=\"color: #0000ff; text-decoration-color: #0000ff\">7</span>                                                                             <span style=\"color: #800000; text-decoration-color: #800000\">│</span>\n",
       "<span style=\"color: #800000; text-decoration-color: #800000\">│</span>                                                                                                  <span style=\"color: #800000; text-decoration-color: #800000\">│</span>\n",
       "<span style=\"color: #800000; text-decoration-color: #800000\">│</span>   <span style=\"color: #7f7f7f; text-decoration-color: #7f7f7f\"> 4 </span><span style=\"color: #bfbf7f; text-decoration-color: #bfbf7f\">│   </span><span style=\"color: #808000; text-decoration-color: #808000\">Return:y_pred_train,y_pred_test\"\"\"</span>                                                      <span style=\"color: #800000; text-decoration-color: #800000\">│</span>\n",
       "<span style=\"color: #800000; text-decoration-color: #800000\">│</span>   <span style=\"color: #7f7f7f; text-decoration-color: #7f7f7f\"> 5 </span><span style=\"color: #7f7f7f; text-decoration-color: #7f7f7f\">│   </span><span style=\"color: #0000ff; text-decoration-color: #0000ff\">from</span> <span style=\"color: #00ffff; text-decoration-color: #00ffff; text-decoration: underline\">sklearn.linear_model</span> <span style=\"color: #0000ff; text-decoration-color: #0000ff\">import</span> LogisticRegression                                     <span style=\"color: #800000; text-decoration-color: #800000\">│</span>\n",
       "<span style=\"color: #800000; text-decoration-color: #800000\">│</span>   <span style=\"color: #7f7f7f; text-decoration-color: #7f7f7f\"> 6 </span><span style=\"color: #7f7f7f; text-decoration-color: #7f7f7f\">│   </span>logreg = LogisticRegression(solver=<span style=\"color: #808000; text-decoration-color: #808000\">'liblinear'</span>,random_state=<span style=\"color: #0000ff; text-decoration-color: #0000ff\">0</span>)                          <span style=\"color: #800000; text-decoration-color: #800000\">│</span>\n",
       "<span style=\"color: #800000; text-decoration-color: #800000\">│</span> <span style=\"color: #800000; text-decoration-color: #800000\">❱ </span> 7 <span style=\"color: #7f7f7f; text-decoration-color: #7f7f7f\">│   </span>model = logreg.fit(X_train,y_train)                                                     <span style=\"color: #800000; text-decoration-color: #800000\">│</span>\n",
       "<span style=\"color: #800000; text-decoration-color: #800000\">│</span>   <span style=\"color: #7f7f7f; text-decoration-color: #7f7f7f\"> 8 </span><span style=\"color: #7f7f7f; text-decoration-color: #7f7f7f\">│   </span><span style=\"color: #7f7f7f; text-decoration-color: #7f7f7f\"># import pickle</span>                                                                         <span style=\"color: #800000; text-decoration-color: #800000\">│</span>\n",
       "<span style=\"color: #800000; text-decoration-color: #800000\">│</span>   <span style=\"color: #7f7f7f; text-decoration-color: #7f7f7f\"> 9 </span><span style=\"color: #7f7f7f; text-decoration-color: #7f7f7f\">│   </span><span style=\"color: #7f7f7f; text-decoration-color: #7f7f7f\"># with open('Logistic_Regression.pkl','w') as f:</span>                                        <span style=\"color: #800000; text-decoration-color: #800000\">│</span>\n",
       "<span style=\"color: #800000; text-decoration-color: #800000\">│</span>   <span style=\"color: #7f7f7f; text-decoration-color: #7f7f7f\">10 </span><span style=\"color: #7f7f7f; text-decoration-color: #7f7f7f\">│   </span><span style=\"color: #7f7f7f; text-decoration-color: #7f7f7f\">#  pickle.dump(model,f)</span>                                                                 <span style=\"color: #800000; text-decoration-color: #800000\">│</span>\n",
       "<span style=\"color: #800000; text-decoration-color: #800000\">│</span>                                                                                                  <span style=\"color: #800000; text-decoration-color: #800000\">│</span>\n",
       "<span style=\"color: #800000; text-decoration-color: #800000\">│</span> <span style=\"color: #808000; text-decoration-color: #808000\">c:\\Work\\Weather_Aus\\venv\\lib\\site-packages\\sklearn\\linear_model\\_logistic.py</span>:<span style=\"color: #0000ff; text-decoration-color: #0000ff\">1196</span> in <span style=\"color: #00ff00; text-decoration-color: #00ff00\">fit</span>         <span style=\"color: #800000; text-decoration-color: #800000\">│</span>\n",
       "<span style=\"color: #800000; text-decoration-color: #800000\">│</span>                                                                                                  <span style=\"color: #800000; text-decoration-color: #800000\">│</span>\n",
       "<span style=\"color: #800000; text-decoration-color: #800000\">│</span>   <span style=\"color: #7f7f7f; text-decoration-color: #7f7f7f\">1193 </span><span style=\"color: #7f7f7f; text-decoration-color: #7f7f7f\">│   │   </span><span style=\"color: #0000ff; text-decoration-color: #0000ff\">else</span>:                                                                             <span style=\"color: #800000; text-decoration-color: #800000\">│</span>\n",
       "<span style=\"color: #800000; text-decoration-color: #800000\">│</span>   <span style=\"color: #7f7f7f; text-decoration-color: #7f7f7f\">1194 </span><span style=\"color: #7f7f7f; text-decoration-color: #7f7f7f\">│   │   │   </span>_dtype = [np.float64, np.float32]                                             <span style=\"color: #800000; text-decoration-color: #800000\">│</span>\n",
       "<span style=\"color: #800000; text-decoration-color: #800000\">│</span>   <span style=\"color: #7f7f7f; text-decoration-color: #7f7f7f\">1195 </span><span style=\"color: #7f7f7f; text-decoration-color: #7f7f7f\">│   │   </span>                                                                                  <span style=\"color: #800000; text-decoration-color: #800000\">│</span>\n",
       "<span style=\"color: #800000; text-decoration-color: #800000\">│</span> <span style=\"color: #800000; text-decoration-color: #800000\">❱ </span>1196 <span style=\"color: #7f7f7f; text-decoration-color: #7f7f7f\">│   │   </span>X, y = <span style=\"color: #00ffff; text-decoration-color: #00ffff\">self</span>._validate_data(                                                       <span style=\"color: #800000; text-decoration-color: #800000\">│</span>\n",
       "<span style=\"color: #800000; text-decoration-color: #800000\">│</span>   <span style=\"color: #7f7f7f; text-decoration-color: #7f7f7f\">1197 </span><span style=\"color: #7f7f7f; text-decoration-color: #7f7f7f\">│   │   │   </span>X,                                                                            <span style=\"color: #800000; text-decoration-color: #800000\">│</span>\n",
       "<span style=\"color: #800000; text-decoration-color: #800000\">│</span>   <span style=\"color: #7f7f7f; text-decoration-color: #7f7f7f\">1198 </span><span style=\"color: #7f7f7f; text-decoration-color: #7f7f7f\">│   │   │   </span>y,                                                                            <span style=\"color: #800000; text-decoration-color: #800000\">│</span>\n",
       "<span style=\"color: #800000; text-decoration-color: #800000\">│</span>   <span style=\"color: #7f7f7f; text-decoration-color: #7f7f7f\">1199 </span><span style=\"color: #7f7f7f; text-decoration-color: #7f7f7f\">│   │   │   </span>accept_sparse=<span style=\"color: #808000; text-decoration-color: #808000\">\"csr\"</span>,                                                          <span style=\"color: #800000; text-decoration-color: #800000\">│</span>\n",
       "<span style=\"color: #800000; text-decoration-color: #800000\">│</span>                                                                                                  <span style=\"color: #800000; text-decoration-color: #800000\">│</span>\n",
       "<span style=\"color: #800000; text-decoration-color: #800000\">│</span> <span style=\"color: #808000; text-decoration-color: #808000\">c:\\Work\\Weather_Aus\\venv\\lib\\site-packages\\sklearn\\base.py</span>:<span style=\"color: #0000ff; text-decoration-color: #0000ff\">584</span> in <span style=\"color: #00ff00; text-decoration-color: #00ff00\">_validate_data</span>                 <span style=\"color: #800000; text-decoration-color: #800000\">│</span>\n",
       "<span style=\"color: #800000; text-decoration-color: #800000\">│</span>                                                                                                  <span style=\"color: #800000; text-decoration-color: #800000\">│</span>\n",
       "<span style=\"color: #800000; text-decoration-color: #800000\">│</span>   <span style=\"color: #7f7f7f; text-decoration-color: #7f7f7f\"> 581 </span><span style=\"color: #7f7f7f; text-decoration-color: #7f7f7f\">│   │   │   │   │   </span>check_y_params = {**default_check_params, **check_y_params}           <span style=\"color: #800000; text-decoration-color: #800000\">│</span>\n",
       "<span style=\"color: #800000; text-decoration-color: #800000\">│</span>   <span style=\"color: #7f7f7f; text-decoration-color: #7f7f7f\"> 582 </span><span style=\"color: #7f7f7f; text-decoration-color: #7f7f7f\">│   │   │   │   </span>y = check_array(y, input_name=<span style=\"color: #808000; text-decoration-color: #808000\">\"y\"</span>, **check_y_params)                      <span style=\"color: #800000; text-decoration-color: #800000\">│</span>\n",
       "<span style=\"color: #800000; text-decoration-color: #800000\">│</span>   <span style=\"color: #7f7f7f; text-decoration-color: #7f7f7f\"> 583 </span><span style=\"color: #7f7f7f; text-decoration-color: #7f7f7f\">│   │   │   </span><span style=\"color: #0000ff; text-decoration-color: #0000ff\">else</span>:                                                                         <span style=\"color: #800000; text-decoration-color: #800000\">│</span>\n",
       "<span style=\"color: #800000; text-decoration-color: #800000\">│</span> <span style=\"color: #800000; text-decoration-color: #800000\">❱ </span> 584 <span style=\"color: #7f7f7f; text-decoration-color: #7f7f7f\">│   │   │   │   </span>X, y = check_X_y(X, y, **check_params)                                    <span style=\"color: #800000; text-decoration-color: #800000\">│</span>\n",
       "<span style=\"color: #800000; text-decoration-color: #800000\">│</span>   <span style=\"color: #7f7f7f; text-decoration-color: #7f7f7f\"> 585 </span><span style=\"color: #7f7f7f; text-decoration-color: #7f7f7f\">│   │   │   </span>out = X, y                                                                    <span style=\"color: #800000; text-decoration-color: #800000\">│</span>\n",
       "<span style=\"color: #800000; text-decoration-color: #800000\">│</span>   <span style=\"color: #7f7f7f; text-decoration-color: #7f7f7f\"> 586 </span><span style=\"color: #7f7f7f; text-decoration-color: #7f7f7f\">│   │   </span>                                                                                  <span style=\"color: #800000; text-decoration-color: #800000\">│</span>\n",
       "<span style=\"color: #800000; text-decoration-color: #800000\">│</span>   <span style=\"color: #7f7f7f; text-decoration-color: #7f7f7f\"> 587 </span><span style=\"color: #7f7f7f; text-decoration-color: #7f7f7f\">│   │   </span><span style=\"color: #0000ff; text-decoration-color: #0000ff\">if</span> <span style=\"color: #ff00ff; text-decoration-color: #ff00ff\">not</span> no_val_X <span style=\"color: #ff00ff; text-decoration-color: #ff00ff\">and</span> check_params.get(<span style=\"color: #808000; text-decoration-color: #808000\">\"ensure_2d\"</span>, <span style=\"color: #0000ff; text-decoration-color: #0000ff\">True</span>):                          <span style=\"color: #800000; text-decoration-color: #800000\">│</span>\n",
       "<span style=\"color: #800000; text-decoration-color: #800000\">│</span>                                                                                                  <span style=\"color: #800000; text-decoration-color: #800000\">│</span>\n",
       "<span style=\"color: #800000; text-decoration-color: #800000\">│</span> <span style=\"color: #808000; text-decoration-color: #808000\">c:\\Work\\Weather_Aus\\venv\\lib\\site-packages\\sklearn\\utils\\validation.py</span>:<span style=\"color: #0000ff; text-decoration-color: #0000ff\">1106</span> in <span style=\"color: #00ff00; text-decoration-color: #00ff00\">check_X_y</span>         <span style=\"color: #800000; text-decoration-color: #800000\">│</span>\n",
       "<span style=\"color: #800000; text-decoration-color: #800000\">│</span>                                                                                                  <span style=\"color: #800000; text-decoration-color: #800000\">│</span>\n",
       "<span style=\"color: #800000; text-decoration-color: #800000\">│</span>   <span style=\"color: #7f7f7f; text-decoration-color: #7f7f7f\">1103 </span><span style=\"color: #7f7f7f; text-decoration-color: #7f7f7f\">│   │   │   </span><span style=\"color: #808000; text-decoration-color: #808000\">f\"{</span>estimator_name<span style=\"color: #808000; text-decoration-color: #808000\">} requires y to be passed, but the target y is None\"</span>         <span style=\"color: #800000; text-decoration-color: #800000\">│</span>\n",
       "<span style=\"color: #800000; text-decoration-color: #800000\">│</span>   <span style=\"color: #7f7f7f; text-decoration-color: #7f7f7f\">1104 </span><span style=\"color: #7f7f7f; text-decoration-color: #7f7f7f\">│   │   </span>)                                                                                 <span style=\"color: #800000; text-decoration-color: #800000\">│</span>\n",
       "<span style=\"color: #800000; text-decoration-color: #800000\">│</span>   <span style=\"color: #7f7f7f; text-decoration-color: #7f7f7f\">1105 </span><span style=\"color: #7f7f7f; text-decoration-color: #7f7f7f\">│   </span>                                                                                      <span style=\"color: #800000; text-decoration-color: #800000\">│</span>\n",
       "<span style=\"color: #800000; text-decoration-color: #800000\">│</span> <span style=\"color: #800000; text-decoration-color: #800000\">❱ </span>1106 <span style=\"color: #7f7f7f; text-decoration-color: #7f7f7f\">│   </span>X = check_array(                                                                      <span style=\"color: #800000; text-decoration-color: #800000\">│</span>\n",
       "<span style=\"color: #800000; text-decoration-color: #800000\">│</span>   <span style=\"color: #7f7f7f; text-decoration-color: #7f7f7f\">1107 </span><span style=\"color: #7f7f7f; text-decoration-color: #7f7f7f\">│   │   </span>X,                                                                                <span style=\"color: #800000; text-decoration-color: #800000\">│</span>\n",
       "<span style=\"color: #800000; text-decoration-color: #800000\">│</span>   <span style=\"color: #7f7f7f; text-decoration-color: #7f7f7f\">1108 </span><span style=\"color: #7f7f7f; text-decoration-color: #7f7f7f\">│   │   </span>accept_sparse=accept_sparse,                                                      <span style=\"color: #800000; text-decoration-color: #800000\">│</span>\n",
       "<span style=\"color: #800000; text-decoration-color: #800000\">│</span>   <span style=\"color: #7f7f7f; text-decoration-color: #7f7f7f\">1109 </span><span style=\"color: #7f7f7f; text-decoration-color: #7f7f7f\">│   │   </span>accept_large_sparse=accept_large_sparse,                                          <span style=\"color: #800000; text-decoration-color: #800000\">│</span>\n",
       "<span style=\"color: #800000; text-decoration-color: #800000\">│</span>                                                                                                  <span style=\"color: #800000; text-decoration-color: #800000\">│</span>\n",
       "<span style=\"color: #800000; text-decoration-color: #800000\">│</span> <span style=\"color: #808000; text-decoration-color: #808000\">c:\\Work\\Weather_Aus\\venv\\lib\\site-packages\\sklearn\\utils\\validation.py</span>:<span style=\"color: #0000ff; text-decoration-color: #0000ff\">879</span> in <span style=\"color: #00ff00; text-decoration-color: #00ff00\">check_array</span>        <span style=\"color: #800000; text-decoration-color: #800000\">│</span>\n",
       "<span style=\"color: #800000; text-decoration-color: #800000\">│</span>                                                                                                  <span style=\"color: #800000; text-decoration-color: #800000\">│</span>\n",
       "<span style=\"color: #800000; text-decoration-color: #800000\">│</span>   <span style=\"color: #7f7f7f; text-decoration-color: #7f7f7f\"> 876 </span><span style=\"color: #7f7f7f; text-decoration-color: #7f7f7f\">│   │   │   │   │   │   </span>)                                                                 <span style=\"color: #800000; text-decoration-color: #800000\">│</span>\n",
       "<span style=\"color: #800000; text-decoration-color: #800000\">│</span>   <span style=\"color: #7f7f7f; text-decoration-color: #7f7f7f\"> 877 </span><span style=\"color: #7f7f7f; text-decoration-color: #7f7f7f\">│   │   │   │   │   </span>array = xp.astype(array, dtype, copy=<span style=\"color: #0000ff; text-decoration-color: #0000ff\">False</span>)                           <span style=\"color: #800000; text-decoration-color: #800000\">│</span>\n",
       "<span style=\"color: #800000; text-decoration-color: #800000\">│</span>   <span style=\"color: #7f7f7f; text-decoration-color: #7f7f7f\"> 878 </span><span style=\"color: #7f7f7f; text-decoration-color: #7f7f7f\">│   │   │   │   </span><span style=\"color: #0000ff; text-decoration-color: #0000ff\">else</span>:                                                                     <span style=\"color: #800000; text-decoration-color: #800000\">│</span>\n",
       "<span style=\"color: #800000; text-decoration-color: #800000\">│</span> <span style=\"color: #800000; text-decoration-color: #800000\">❱ </span> 879 <span style=\"color: #7f7f7f; text-decoration-color: #7f7f7f\">│   │   │   │   │   </span>array = _asarray_with_order(array, order=order, dtype=dtype, xp=xp)   <span style=\"color: #800000; text-decoration-color: #800000\">│</span>\n",
       "<span style=\"color: #800000; text-decoration-color: #800000\">│</span>   <span style=\"color: #7f7f7f; text-decoration-color: #7f7f7f\"> 880 </span><span style=\"color: #7f7f7f; text-decoration-color: #7f7f7f\">│   │   │   </span><span style=\"color: #0000ff; text-decoration-color: #0000ff\">except</span> ComplexWarning <span style=\"color: #0000ff; text-decoration-color: #0000ff\">as</span> complex_warning:                                     <span style=\"color: #800000; text-decoration-color: #800000\">│</span>\n",
       "<span style=\"color: #800000; text-decoration-color: #800000\">│</span>   <span style=\"color: #7f7f7f; text-decoration-color: #7f7f7f\"> 881 </span><span style=\"color: #7f7f7f; text-decoration-color: #7f7f7f\">│   │   │   │   </span><span style=\"color: #0000ff; text-decoration-color: #0000ff\">raise</span> <span style=\"color: #00ffff; text-decoration-color: #00ffff\">ValueError</span>(                                                         <span style=\"color: #800000; text-decoration-color: #800000\">│</span>\n",
       "<span style=\"color: #800000; text-decoration-color: #800000\">│</span>   <span style=\"color: #7f7f7f; text-decoration-color: #7f7f7f\"> 882 </span><span style=\"color: #7f7f7f; text-decoration-color: #7f7f7f\">│   │   │   │   │   </span><span style=\"color: #808000; text-decoration-color: #808000\">\"Complex data not supported\\n{}\\n\"</span>.format(array)                      <span style=\"color: #800000; text-decoration-color: #800000\">│</span>\n",
       "<span style=\"color: #800000; text-decoration-color: #800000\">│</span>                                                                                                  <span style=\"color: #800000; text-decoration-color: #800000\">│</span>\n",
       "<span style=\"color: #800000; text-decoration-color: #800000\">│</span> <span style=\"color: #808000; text-decoration-color: #808000\">c:\\Work\\Weather_Aus\\venv\\lib\\site-packages\\sklearn\\utils\\_array_api.py</span>:<span style=\"color: #0000ff; text-decoration-color: #0000ff\">185</span> in                    <span style=\"color: #800000; text-decoration-color: #800000\">│</span>\n",
       "<span style=\"color: #800000; text-decoration-color: #800000\">│</span> <span style=\"color: #00ff00; text-decoration-color: #00ff00\">_asarray_with_order</span>                                                                              <span style=\"color: #800000; text-decoration-color: #800000\">│</span>\n",
       "<span style=\"color: #800000; text-decoration-color: #800000\">│</span>                                                                                                  <span style=\"color: #800000; text-decoration-color: #800000\">│</span>\n",
       "<span style=\"color: #800000; text-decoration-color: #800000\">│</span>   <span style=\"color: #7f7f7f; text-decoration-color: #7f7f7f\">182 </span><span style=\"color: #7f7f7f; text-decoration-color: #7f7f7f\">│   │   </span>xp, _ = get_namespace(array)                                                       <span style=\"color: #800000; text-decoration-color: #800000\">│</span>\n",
       "<span style=\"color: #800000; text-decoration-color: #800000\">│</span>   <span style=\"color: #7f7f7f; text-decoration-color: #7f7f7f\">183 </span><span style=\"color: #7f7f7f; text-decoration-color: #7f7f7f\">│   </span><span style=\"color: #0000ff; text-decoration-color: #0000ff\">if</span> xp.<span style=\"color: #ff0000; text-decoration-color: #ff0000\">__name__</span> <span style=\"color: #ff00ff; text-decoration-color: #ff00ff\">in</span> {<span style=\"color: #808000; text-decoration-color: #808000\">\"numpy\"</span>, <span style=\"color: #808000; text-decoration-color: #808000\">\"numpy.array_api\"</span>}:                                        <span style=\"color: #800000; text-decoration-color: #800000\">│</span>\n",
       "<span style=\"color: #800000; text-decoration-color: #800000\">│</span>   <span style=\"color: #7f7f7f; text-decoration-color: #7f7f7f\">184 </span><span style=\"color: #7f7f7f; text-decoration-color: #7f7f7f\">│   │   </span><span style=\"color: #7f7f7f; text-decoration-color: #7f7f7f\"># Use NumPy API to support order</span>                                                   <span style=\"color: #800000; text-decoration-color: #800000\">│</span>\n",
       "<span style=\"color: #800000; text-decoration-color: #800000\">│</span> <span style=\"color: #800000; text-decoration-color: #800000\">❱ </span>185 <span style=\"color: #7f7f7f; text-decoration-color: #7f7f7f\">│   │   </span>array = numpy.asarray(array, order=order, dtype=dtype)                             <span style=\"color: #800000; text-decoration-color: #800000\">│</span>\n",
       "<span style=\"color: #800000; text-decoration-color: #800000\">│</span>   <span style=\"color: #7f7f7f; text-decoration-color: #7f7f7f\">186 </span><span style=\"color: #7f7f7f; text-decoration-color: #7f7f7f\">│   │   </span><span style=\"color: #0000ff; text-decoration-color: #0000ff\">return</span> xp.asarray(array, copy=copy)                                                <span style=\"color: #800000; text-decoration-color: #800000\">│</span>\n",
       "<span style=\"color: #800000; text-decoration-color: #800000\">│</span>   <span style=\"color: #7f7f7f; text-decoration-color: #7f7f7f\">187 </span><span style=\"color: #7f7f7f; text-decoration-color: #7f7f7f\">│   </span><span style=\"color: #0000ff; text-decoration-color: #0000ff\">else</span>:                                                                                  <span style=\"color: #800000; text-decoration-color: #800000\">│</span>\n",
       "<span style=\"color: #800000; text-decoration-color: #800000\">│</span>   <span style=\"color: #7f7f7f; text-decoration-color: #7f7f7f\">188 </span><span style=\"color: #7f7f7f; text-decoration-color: #7f7f7f\">│   │   </span><span style=\"color: #0000ff; text-decoration-color: #0000ff\">return</span> xp.asarray(array, dtype=dtype, copy=copy)                                   <span style=\"color: #800000; text-decoration-color: #800000\">│</span>\n",
       "<span style=\"color: #800000; text-decoration-color: #800000\">│</span>                                                                                                  <span style=\"color: #800000; text-decoration-color: #800000\">│</span>\n",
       "<span style=\"color: #800000; text-decoration-color: #800000\">│</span> <span style=\"color: #808000; text-decoration-color: #808000\">c:\\Work\\Weather_Aus\\venv\\lib\\site-packages\\pandas\\core\\generic.py</span>:<span style=\"color: #0000ff; text-decoration-color: #0000ff\">1998</span> in <span style=\"color: #00ff00; text-decoration-color: #00ff00\">__array__</span>              <span style=\"color: #800000; text-decoration-color: #800000\">│</span>\n",
       "<span style=\"color: #800000; text-decoration-color: #800000\">│</span>                                                                                                  <span style=\"color: #800000; text-decoration-color: #800000\">│</span>\n",
       "<span style=\"color: #800000; text-decoration-color: #800000\">│</span>   <span style=\"color: #7f7f7f; text-decoration-color: #7f7f7f\"> 1995 </span><span style=\"color: #7f7f7f; text-decoration-color: #7f7f7f\">│   </span>                                                                                     <span style=\"color: #800000; text-decoration-color: #800000\">│</span>\n",
       "<span style=\"color: #800000; text-decoration-color: #800000\">│</span>   <span style=\"color: #7f7f7f; text-decoration-color: #7f7f7f\"> 1996 </span><span style=\"color: #7f7f7f; text-decoration-color: #7f7f7f\">│   </span><span style=\"color: #0000ff; text-decoration-color: #0000ff\">def</span> <span style=\"color: #00ff00; text-decoration-color: #00ff00\">__array__</span>(<span style=\"color: #00ffff; text-decoration-color: #00ffff\">self</span>, dtype: npt.DTypeLike | <span style=\"color: #0000ff; text-decoration-color: #0000ff\">None</span> = <span style=\"color: #0000ff; text-decoration-color: #0000ff\">None</span>) -&gt; np.ndarray:               <span style=\"color: #800000; text-decoration-color: #800000\">│</span>\n",
       "<span style=\"color: #800000; text-decoration-color: #800000\">│</span>   <span style=\"color: #7f7f7f; text-decoration-color: #7f7f7f\"> 1997 </span><span style=\"color: #7f7f7f; text-decoration-color: #7f7f7f\">│   │   </span>values = <span style=\"color: #00ffff; text-decoration-color: #00ffff\">self</span>._values                                                            <span style=\"color: #800000; text-decoration-color: #800000\">│</span>\n",
       "<span style=\"color: #800000; text-decoration-color: #800000\">│</span> <span style=\"color: #800000; text-decoration-color: #800000\">❱ </span> 1998 <span style=\"color: #7f7f7f; text-decoration-color: #7f7f7f\">│   │   </span>arr = np.asarray(values, dtype=dtype)                                            <span style=\"color: #800000; text-decoration-color: #800000\">│</span>\n",
       "<span style=\"color: #800000; text-decoration-color: #800000\">│</span>   <span style=\"color: #7f7f7f; text-decoration-color: #7f7f7f\"> 1999 </span><span style=\"color: #7f7f7f; text-decoration-color: #7f7f7f\">│   │   </span><span style=\"color: #0000ff; text-decoration-color: #0000ff\">if</span> (                                                                             <span style=\"color: #800000; text-decoration-color: #800000\">│</span>\n",
       "<span style=\"color: #800000; text-decoration-color: #800000\">│</span>   <span style=\"color: #7f7f7f; text-decoration-color: #7f7f7f\"> 2000 </span><span style=\"color: #7f7f7f; text-decoration-color: #7f7f7f\">│   │   │   </span>astype_is_view(values.dtype, arr.dtype)                                      <span style=\"color: #800000; text-decoration-color: #800000\">│</span>\n",
       "<span style=\"color: #800000; text-decoration-color: #800000\">│</span>   <span style=\"color: #7f7f7f; text-decoration-color: #7f7f7f\"> 2001 </span><span style=\"color: #7f7f7f; text-decoration-color: #7f7f7f\">│   │   │   </span><span style=\"color: #ff00ff; text-decoration-color: #ff00ff\">and</span> using_copy_on_write()                                                    <span style=\"color: #800000; text-decoration-color: #800000\">│</span>\n",
       "<span style=\"color: #800000; text-decoration-color: #800000\">╰──────────────────────────────────────────────────────────────────────────────────────────────────╯</span>\n",
       "<span style=\"color: #ff0000; text-decoration-color: #ff0000; font-weight: bold\">ValueError: </span>could not convert string to float: <span style=\"color: #008000; text-decoration-color: #008000\">'Witchcliffe'</span>\n",
       "</pre>\n"
      ],
      "text/plain": [
       "\u001b[31m╭─\u001b[0m\u001b[31m──────────────────────────────\u001b[0m\u001b[31m \u001b[0m\u001b[1;31mTraceback \u001b[0m\u001b[1;2;31m(most recent call last)\u001b[0m\u001b[31m \u001b[0m\u001b[31m───────────────────────────────\u001b[0m\u001b[31m─╮\u001b[0m\n",
       "\u001b[31m│\u001b[0m in \u001b[92m<module>\u001b[0m:\u001b[94m12\u001b[0m                                                                                   \u001b[31m│\u001b[0m\n",
       "\u001b[31m│\u001b[0m                                                                                                  \u001b[31m│\u001b[0m\n",
       "\u001b[31m│\u001b[0m   \u001b[2m 9 \u001b[0m\u001b[2m│   \u001b[0m\u001b[2m# with open('Logistic_Regression.pkl','w') as f:\u001b[0m                                        \u001b[31m│\u001b[0m\n",
       "\u001b[31m│\u001b[0m   \u001b[2m10 \u001b[0m\u001b[2m│   \u001b[0m\u001b[2m#  pickle.dump(model,f)\u001b[0m                                                                 \u001b[31m│\u001b[0m\n",
       "\u001b[31m│\u001b[0m   \u001b[2m11 \u001b[0m\u001b[2m│   \u001b[0m\u001b[2m# return model\u001b[0m                                                                          \u001b[31m│\u001b[0m\n",
       "\u001b[31m│\u001b[0m \u001b[31m❱ \u001b[0m12 model = logregAlgorithm(X_train,X_test,y_train,y_test)                                      \u001b[31m│\u001b[0m\n",
       "\u001b[31m│\u001b[0m   \u001b[2m13 \u001b[0m                                                                                            \u001b[31m│\u001b[0m\n",
       "\u001b[31m│\u001b[0m                                                                                                  \u001b[31m│\u001b[0m\n",
       "\u001b[31m│\u001b[0m in \u001b[92mlogregAlgorithm\u001b[0m:\u001b[94m7\u001b[0m                                                                             \u001b[31m│\u001b[0m\n",
       "\u001b[31m│\u001b[0m                                                                                                  \u001b[31m│\u001b[0m\n",
       "\u001b[31m│\u001b[0m   \u001b[2m 4 \u001b[0m\u001b[2;33m│   \u001b[0m\u001b[33mReturn:y_pred_train,y_pred_test\"\"\"\u001b[0m                                                      \u001b[31m│\u001b[0m\n",
       "\u001b[31m│\u001b[0m   \u001b[2m 5 \u001b[0m\u001b[2m│   \u001b[0m\u001b[94mfrom\u001b[0m \u001b[4;96msklearn\u001b[0m\u001b[4;96m.\u001b[0m\u001b[4;96mlinear_model\u001b[0m \u001b[94mimport\u001b[0m LogisticRegression                                     \u001b[31m│\u001b[0m\n",
       "\u001b[31m│\u001b[0m   \u001b[2m 6 \u001b[0m\u001b[2m│   \u001b[0mlogreg = LogisticRegression(solver=\u001b[33m'\u001b[0m\u001b[33mliblinear\u001b[0m\u001b[33m'\u001b[0m,random_state=\u001b[94m0\u001b[0m)                          \u001b[31m│\u001b[0m\n",
       "\u001b[31m│\u001b[0m \u001b[31m❱ \u001b[0m 7 \u001b[2m│   \u001b[0mmodel = logreg.fit(X_train,y_train)                                                     \u001b[31m│\u001b[0m\n",
       "\u001b[31m│\u001b[0m   \u001b[2m 8 \u001b[0m\u001b[2m│   \u001b[0m\u001b[2m# import pickle\u001b[0m                                                                         \u001b[31m│\u001b[0m\n",
       "\u001b[31m│\u001b[0m   \u001b[2m 9 \u001b[0m\u001b[2m│   \u001b[0m\u001b[2m# with open('Logistic_Regression.pkl','w') as f:\u001b[0m                                        \u001b[31m│\u001b[0m\n",
       "\u001b[31m│\u001b[0m   \u001b[2m10 \u001b[0m\u001b[2m│   \u001b[0m\u001b[2m#  pickle.dump(model,f)\u001b[0m                                                                 \u001b[31m│\u001b[0m\n",
       "\u001b[31m│\u001b[0m                                                                                                  \u001b[31m│\u001b[0m\n",
       "\u001b[31m│\u001b[0m \u001b[33mc:\\Work\\Weather_Aus\\venv\\lib\\site-packages\\sklearn\\linear_model\\_logistic.py\u001b[0m:\u001b[94m1196\u001b[0m in \u001b[92mfit\u001b[0m         \u001b[31m│\u001b[0m\n",
       "\u001b[31m│\u001b[0m                                                                                                  \u001b[31m│\u001b[0m\n",
       "\u001b[31m│\u001b[0m   \u001b[2m1193 \u001b[0m\u001b[2m│   │   \u001b[0m\u001b[94melse\u001b[0m:                                                                             \u001b[31m│\u001b[0m\n",
       "\u001b[31m│\u001b[0m   \u001b[2m1194 \u001b[0m\u001b[2m│   │   │   \u001b[0m_dtype = [np.float64, np.float32]                                             \u001b[31m│\u001b[0m\n",
       "\u001b[31m│\u001b[0m   \u001b[2m1195 \u001b[0m\u001b[2m│   │   \u001b[0m                                                                                  \u001b[31m│\u001b[0m\n",
       "\u001b[31m│\u001b[0m \u001b[31m❱ \u001b[0m1196 \u001b[2m│   │   \u001b[0mX, y = \u001b[96mself\u001b[0m._validate_data(                                                       \u001b[31m│\u001b[0m\n",
       "\u001b[31m│\u001b[0m   \u001b[2m1197 \u001b[0m\u001b[2m│   │   │   \u001b[0mX,                                                                            \u001b[31m│\u001b[0m\n",
       "\u001b[31m│\u001b[0m   \u001b[2m1198 \u001b[0m\u001b[2m│   │   │   \u001b[0my,                                                                            \u001b[31m│\u001b[0m\n",
       "\u001b[31m│\u001b[0m   \u001b[2m1199 \u001b[0m\u001b[2m│   │   │   \u001b[0maccept_sparse=\u001b[33m\"\u001b[0m\u001b[33mcsr\u001b[0m\u001b[33m\"\u001b[0m,                                                          \u001b[31m│\u001b[0m\n",
       "\u001b[31m│\u001b[0m                                                                                                  \u001b[31m│\u001b[0m\n",
       "\u001b[31m│\u001b[0m \u001b[33mc:\\Work\\Weather_Aus\\venv\\lib\\site-packages\\sklearn\\base.py\u001b[0m:\u001b[94m584\u001b[0m in \u001b[92m_validate_data\u001b[0m                 \u001b[31m│\u001b[0m\n",
       "\u001b[31m│\u001b[0m                                                                                                  \u001b[31m│\u001b[0m\n",
       "\u001b[31m│\u001b[0m   \u001b[2m 581 \u001b[0m\u001b[2m│   │   │   │   │   \u001b[0mcheck_y_params = {**default_check_params, **check_y_params}           \u001b[31m│\u001b[0m\n",
       "\u001b[31m│\u001b[0m   \u001b[2m 582 \u001b[0m\u001b[2m│   │   │   │   \u001b[0my = check_array(y, input_name=\u001b[33m\"\u001b[0m\u001b[33my\u001b[0m\u001b[33m\"\u001b[0m, **check_y_params)                      \u001b[31m│\u001b[0m\n",
       "\u001b[31m│\u001b[0m   \u001b[2m 583 \u001b[0m\u001b[2m│   │   │   \u001b[0m\u001b[94melse\u001b[0m:                                                                         \u001b[31m│\u001b[0m\n",
       "\u001b[31m│\u001b[0m \u001b[31m❱ \u001b[0m 584 \u001b[2m│   │   │   │   \u001b[0mX, y = check_X_y(X, y, **check_params)                                    \u001b[31m│\u001b[0m\n",
       "\u001b[31m│\u001b[0m   \u001b[2m 585 \u001b[0m\u001b[2m│   │   │   \u001b[0mout = X, y                                                                    \u001b[31m│\u001b[0m\n",
       "\u001b[31m│\u001b[0m   \u001b[2m 586 \u001b[0m\u001b[2m│   │   \u001b[0m                                                                                  \u001b[31m│\u001b[0m\n",
       "\u001b[31m│\u001b[0m   \u001b[2m 587 \u001b[0m\u001b[2m│   │   \u001b[0m\u001b[94mif\u001b[0m \u001b[95mnot\u001b[0m no_val_X \u001b[95mand\u001b[0m check_params.get(\u001b[33m\"\u001b[0m\u001b[33mensure_2d\u001b[0m\u001b[33m\"\u001b[0m, \u001b[94mTrue\u001b[0m):                          \u001b[31m│\u001b[0m\n",
       "\u001b[31m│\u001b[0m                                                                                                  \u001b[31m│\u001b[0m\n",
       "\u001b[31m│\u001b[0m \u001b[33mc:\\Work\\Weather_Aus\\venv\\lib\\site-packages\\sklearn\\utils\\validation.py\u001b[0m:\u001b[94m1106\u001b[0m in \u001b[92mcheck_X_y\u001b[0m         \u001b[31m│\u001b[0m\n",
       "\u001b[31m│\u001b[0m                                                                                                  \u001b[31m│\u001b[0m\n",
       "\u001b[31m│\u001b[0m   \u001b[2m1103 \u001b[0m\u001b[2m│   │   │   \u001b[0m\u001b[33mf\u001b[0m\u001b[33m\"\u001b[0m\u001b[33m{\u001b[0mestimator_name\u001b[33m}\u001b[0m\u001b[33m requires y to be passed, but the target y is None\u001b[0m\u001b[33m\"\u001b[0m         \u001b[31m│\u001b[0m\n",
       "\u001b[31m│\u001b[0m   \u001b[2m1104 \u001b[0m\u001b[2m│   │   \u001b[0m)                                                                                 \u001b[31m│\u001b[0m\n",
       "\u001b[31m│\u001b[0m   \u001b[2m1105 \u001b[0m\u001b[2m│   \u001b[0m                                                                                      \u001b[31m│\u001b[0m\n",
       "\u001b[31m│\u001b[0m \u001b[31m❱ \u001b[0m1106 \u001b[2m│   \u001b[0mX = check_array(                                                                      \u001b[31m│\u001b[0m\n",
       "\u001b[31m│\u001b[0m   \u001b[2m1107 \u001b[0m\u001b[2m│   │   \u001b[0mX,                                                                                \u001b[31m│\u001b[0m\n",
       "\u001b[31m│\u001b[0m   \u001b[2m1108 \u001b[0m\u001b[2m│   │   \u001b[0maccept_sparse=accept_sparse,                                                      \u001b[31m│\u001b[0m\n",
       "\u001b[31m│\u001b[0m   \u001b[2m1109 \u001b[0m\u001b[2m│   │   \u001b[0maccept_large_sparse=accept_large_sparse,                                          \u001b[31m│\u001b[0m\n",
       "\u001b[31m│\u001b[0m                                                                                                  \u001b[31m│\u001b[0m\n",
       "\u001b[31m│\u001b[0m \u001b[33mc:\\Work\\Weather_Aus\\venv\\lib\\site-packages\\sklearn\\utils\\validation.py\u001b[0m:\u001b[94m879\u001b[0m in \u001b[92mcheck_array\u001b[0m        \u001b[31m│\u001b[0m\n",
       "\u001b[31m│\u001b[0m                                                                                                  \u001b[31m│\u001b[0m\n",
       "\u001b[31m│\u001b[0m   \u001b[2m 876 \u001b[0m\u001b[2m│   │   │   │   │   │   \u001b[0m)                                                                 \u001b[31m│\u001b[0m\n",
       "\u001b[31m│\u001b[0m   \u001b[2m 877 \u001b[0m\u001b[2m│   │   │   │   │   \u001b[0marray = xp.astype(array, dtype, copy=\u001b[94mFalse\u001b[0m)                           \u001b[31m│\u001b[0m\n",
       "\u001b[31m│\u001b[0m   \u001b[2m 878 \u001b[0m\u001b[2m│   │   │   │   \u001b[0m\u001b[94melse\u001b[0m:                                                                     \u001b[31m│\u001b[0m\n",
       "\u001b[31m│\u001b[0m \u001b[31m❱ \u001b[0m 879 \u001b[2m│   │   │   │   │   \u001b[0marray = _asarray_with_order(array, order=order, dtype=dtype, xp=xp)   \u001b[31m│\u001b[0m\n",
       "\u001b[31m│\u001b[0m   \u001b[2m 880 \u001b[0m\u001b[2m│   │   │   \u001b[0m\u001b[94mexcept\u001b[0m ComplexWarning \u001b[94mas\u001b[0m complex_warning:                                     \u001b[31m│\u001b[0m\n",
       "\u001b[31m│\u001b[0m   \u001b[2m 881 \u001b[0m\u001b[2m│   │   │   │   \u001b[0m\u001b[94mraise\u001b[0m \u001b[96mValueError\u001b[0m(                                                         \u001b[31m│\u001b[0m\n",
       "\u001b[31m│\u001b[0m   \u001b[2m 882 \u001b[0m\u001b[2m│   │   │   │   │   \u001b[0m\u001b[33m\"\u001b[0m\u001b[33mComplex data not supported\u001b[0m\u001b[33m\\n\u001b[0m\u001b[33m{}\u001b[0m\u001b[33m\\n\u001b[0m\u001b[33m\"\u001b[0m.format(array)                      \u001b[31m│\u001b[0m\n",
       "\u001b[31m│\u001b[0m                                                                                                  \u001b[31m│\u001b[0m\n",
       "\u001b[31m│\u001b[0m \u001b[33mc:\\Work\\Weather_Aus\\venv\\lib\\site-packages\\sklearn\\utils\\_array_api.py\u001b[0m:\u001b[94m185\u001b[0m in                    \u001b[31m│\u001b[0m\n",
       "\u001b[31m│\u001b[0m \u001b[92m_asarray_with_order\u001b[0m                                                                              \u001b[31m│\u001b[0m\n",
       "\u001b[31m│\u001b[0m                                                                                                  \u001b[31m│\u001b[0m\n",
       "\u001b[31m│\u001b[0m   \u001b[2m182 \u001b[0m\u001b[2m│   │   \u001b[0mxp, _ = get_namespace(array)                                                       \u001b[31m│\u001b[0m\n",
       "\u001b[31m│\u001b[0m   \u001b[2m183 \u001b[0m\u001b[2m│   \u001b[0m\u001b[94mif\u001b[0m xp.\u001b[91m__name__\u001b[0m \u001b[95min\u001b[0m {\u001b[33m\"\u001b[0m\u001b[33mnumpy\u001b[0m\u001b[33m\"\u001b[0m, \u001b[33m\"\u001b[0m\u001b[33mnumpy.array_api\u001b[0m\u001b[33m\"\u001b[0m}:                                        \u001b[31m│\u001b[0m\n",
       "\u001b[31m│\u001b[0m   \u001b[2m184 \u001b[0m\u001b[2m│   │   \u001b[0m\u001b[2m# Use NumPy API to support order\u001b[0m                                                   \u001b[31m│\u001b[0m\n",
       "\u001b[31m│\u001b[0m \u001b[31m❱ \u001b[0m185 \u001b[2m│   │   \u001b[0marray = numpy.asarray(array, order=order, dtype=dtype)                             \u001b[31m│\u001b[0m\n",
       "\u001b[31m│\u001b[0m   \u001b[2m186 \u001b[0m\u001b[2m│   │   \u001b[0m\u001b[94mreturn\u001b[0m xp.asarray(array, copy=copy)                                                \u001b[31m│\u001b[0m\n",
       "\u001b[31m│\u001b[0m   \u001b[2m187 \u001b[0m\u001b[2m│   \u001b[0m\u001b[94melse\u001b[0m:                                                                                  \u001b[31m│\u001b[0m\n",
       "\u001b[31m│\u001b[0m   \u001b[2m188 \u001b[0m\u001b[2m│   │   \u001b[0m\u001b[94mreturn\u001b[0m xp.asarray(array, dtype=dtype, copy=copy)                                   \u001b[31m│\u001b[0m\n",
       "\u001b[31m│\u001b[0m                                                                                                  \u001b[31m│\u001b[0m\n",
       "\u001b[31m│\u001b[0m \u001b[33mc:\\Work\\Weather_Aus\\venv\\lib\\site-packages\\pandas\\core\\generic.py\u001b[0m:\u001b[94m1998\u001b[0m in \u001b[92m__array__\u001b[0m              \u001b[31m│\u001b[0m\n",
       "\u001b[31m│\u001b[0m                                                                                                  \u001b[31m│\u001b[0m\n",
       "\u001b[31m│\u001b[0m   \u001b[2m 1995 \u001b[0m\u001b[2m│   \u001b[0m                                                                                     \u001b[31m│\u001b[0m\n",
       "\u001b[31m│\u001b[0m   \u001b[2m 1996 \u001b[0m\u001b[2m│   \u001b[0m\u001b[94mdef\u001b[0m \u001b[92m__array__\u001b[0m(\u001b[96mself\u001b[0m, dtype: npt.DTypeLike | \u001b[94mNone\u001b[0m = \u001b[94mNone\u001b[0m) -> np.ndarray:               \u001b[31m│\u001b[0m\n",
       "\u001b[31m│\u001b[0m   \u001b[2m 1997 \u001b[0m\u001b[2m│   │   \u001b[0mvalues = \u001b[96mself\u001b[0m._values                                                            \u001b[31m│\u001b[0m\n",
       "\u001b[31m│\u001b[0m \u001b[31m❱ \u001b[0m 1998 \u001b[2m│   │   \u001b[0marr = np.asarray(values, dtype=dtype)                                            \u001b[31m│\u001b[0m\n",
       "\u001b[31m│\u001b[0m   \u001b[2m 1999 \u001b[0m\u001b[2m│   │   \u001b[0m\u001b[94mif\u001b[0m (                                                                             \u001b[31m│\u001b[0m\n",
       "\u001b[31m│\u001b[0m   \u001b[2m 2000 \u001b[0m\u001b[2m│   │   │   \u001b[0mastype_is_view(values.dtype, arr.dtype)                                      \u001b[31m│\u001b[0m\n",
       "\u001b[31m│\u001b[0m   \u001b[2m 2001 \u001b[0m\u001b[2m│   │   │   \u001b[0m\u001b[95mand\u001b[0m using_copy_on_write()                                                    \u001b[31m│\u001b[0m\n",
       "\u001b[31m╰──────────────────────────────────────────────────────────────────────────────────────────────────╯\u001b[0m\n",
       "\u001b[1;91mValueError: \u001b[0mcould not convert string to float: \u001b[32m'Witchcliffe'\u001b[0m\n"
      ]
     },
     "metadata": {},
     "output_type": "display_data"
    }
   ],
   "source": [
    "def logregAlgorithm(X_train,X_test,y_train,y_test):\n",
    "    \"\"\"Logistic regression algorithm used\n",
    "    Args: X_train,X_test,y_train,y_test\n",
    "    Return:y_pred_train,y_pred_test\"\"\"\n",
    "    from sklearn.linear_model import LogisticRegression\n",
    "    logreg = LogisticRegression(solver='liblinear',random_state=0)\n",
    "    model = logreg.fit(X_train,y_train)\n",
    "    # import pickle\n",
    "    # with open('Logistic_Regression.pkl','w') as f:\n",
    "    #  pickle.dump(model,f)\n",
    "    # return model\n",
    "model = logregAlgorithm(X_train,X_test,y_train,y_test)"
   ]
  },
  {
   "cell_type": "code",
   "execution_count": null,
   "id": "0a78b9bf",
   "metadata": {},
   "outputs": [],
   "source": []
  },
  {
   "cell_type": "code",
   "execution_count": 98,
   "id": "a586bdc0",
   "metadata": {},
   "outputs": [
    {
     "data": {
      "text/html": [
       "<pre style=\"white-space:pre;overflow-x:auto;line-height:normal;font-family:Menlo,'DejaVu Sans Mono',consolas,'Courier New',monospace\"><span style=\"color: #800000; text-decoration-color: #800000\">╭─────────────────────────────── </span><span style=\"color: #800000; text-decoration-color: #800000; font-weight: bold\">Traceback </span><span style=\"color: #bf7f7f; text-decoration-color: #bf7f7f; font-weight: bold\">(most recent call last)</span><span style=\"color: #800000; text-decoration-color: #800000\"> ────────────────────────────────╮</span>\n",
       "<span style=\"color: #800000; text-decoration-color: #800000\">│</span> in <span style=\"color: #00ff00; text-decoration-color: #00ff00\">&lt;module&gt;</span>:<span style=\"color: #0000ff; text-decoration-color: #0000ff\">1</span>                                                                                    <span style=\"color: #800000; text-decoration-color: #800000\">│</span>\n",
       "<span style=\"color: #800000; text-decoration-color: #800000\">│</span>                                                                                                  <span style=\"color: #800000; text-decoration-color: #800000\">│</span>\n",
       "<span style=\"color: #800000; text-decoration-color: #800000\">│</span> <span style=\"color: #800000; text-decoration-color: #800000\">❱ </span>1 model = logregAlgorithm(X_train,X_test,y_train,y_test)                                       <span style=\"color: #800000; text-decoration-color: #800000\">│</span>\n",
       "<span style=\"color: #800000; text-decoration-color: #800000\">│</span>   <span style=\"color: #7f7f7f; text-decoration-color: #7f7f7f\">2 </span>                                                                                             <span style=\"color: #800000; text-decoration-color: #800000\">│</span>\n",
       "<span style=\"color: #800000; text-decoration-color: #800000\">│</span>                                                                                                  <span style=\"color: #800000; text-decoration-color: #800000\">│</span>\n",
       "<span style=\"color: #800000; text-decoration-color: #800000\">│</span> in <span style=\"color: #00ff00; text-decoration-color: #00ff00\">logregAlgorithm</span>:<span style=\"color: #0000ff; text-decoration-color: #0000ff\">7</span>                                                                             <span style=\"color: #800000; text-decoration-color: #800000\">│</span>\n",
       "<span style=\"color: #800000; text-decoration-color: #800000\">│</span>                                                                                                  <span style=\"color: #800000; text-decoration-color: #800000\">│</span>\n",
       "<span style=\"color: #800000; text-decoration-color: #800000\">│</span>   <span style=\"color: #7f7f7f; text-decoration-color: #7f7f7f\"> 4 </span><span style=\"color: #bfbf7f; text-decoration-color: #bfbf7f\">│   </span><span style=\"color: #808000; text-decoration-color: #808000\">Return:y_pred_train,y_pred_test\"\"\"</span>                                                      <span style=\"color: #800000; text-decoration-color: #800000\">│</span>\n",
       "<span style=\"color: #800000; text-decoration-color: #800000\">│</span>   <span style=\"color: #7f7f7f; text-decoration-color: #7f7f7f\"> 5 </span><span style=\"color: #7f7f7f; text-decoration-color: #7f7f7f\">│   </span><span style=\"color: #0000ff; text-decoration-color: #0000ff\">from</span> <span style=\"color: #00ffff; text-decoration-color: #00ffff; text-decoration: underline\">sklearn.linear_model</span> <span style=\"color: #0000ff; text-decoration-color: #0000ff\">import</span> LogisticRegression                                     <span style=\"color: #800000; text-decoration-color: #800000\">│</span>\n",
       "<span style=\"color: #800000; text-decoration-color: #800000\">│</span>   <span style=\"color: #7f7f7f; text-decoration-color: #7f7f7f\"> 6 </span><span style=\"color: #7f7f7f; text-decoration-color: #7f7f7f\">│   </span>logreg = LogisticRegression(solver=<span style=\"color: #808000; text-decoration-color: #808000\">'liblinear'</span>,random_state=<span style=\"color: #0000ff; text-decoration-color: #0000ff\">0</span>)                          <span style=\"color: #800000; text-decoration-color: #800000\">│</span>\n",
       "<span style=\"color: #800000; text-decoration-color: #800000\">│</span> <span style=\"color: #800000; text-decoration-color: #800000\">❱ </span> 7 <span style=\"color: #7f7f7f; text-decoration-color: #7f7f7f\">│   </span>model = logreg.fit(X_train,y_train)                                                     <span style=\"color: #800000; text-decoration-color: #800000\">│</span>\n",
       "<span style=\"color: #800000; text-decoration-color: #800000\">│</span>   <span style=\"color: #7f7f7f; text-decoration-color: #7f7f7f\"> 8 </span><span style=\"color: #7f7f7f; text-decoration-color: #7f7f7f\">│   </span><span style=\"color: #0000ff; text-decoration-color: #0000ff\">import</span> <span style=\"color: #00ffff; text-decoration-color: #00ffff; text-decoration: underline\">pickle</span>                                                                           <span style=\"color: #800000; text-decoration-color: #800000\">│</span>\n",
       "<span style=\"color: #800000; text-decoration-color: #800000\">│</span>   <span style=\"color: #7f7f7f; text-decoration-color: #7f7f7f\"> 9 </span><span style=\"color: #7f7f7f; text-decoration-color: #7f7f7f\">│   </span><span style=\"color: #0000ff; text-decoration-color: #0000ff\">with</span> <span style=\"color: #00ffff; text-decoration-color: #00ffff\">open</span>(<span style=\"color: #808000; text-decoration-color: #808000\">'Logistic_Regression.pkl'</span>,<span style=\"color: #808000; text-decoration-color: #808000\">'w'</span>) <span style=\"color: #0000ff; text-decoration-color: #0000ff\">as</span> f:                                          <span style=\"color: #800000; text-decoration-color: #800000\">│</span>\n",
       "<span style=\"color: #800000; text-decoration-color: #800000\">│</span>   <span style=\"color: #7f7f7f; text-decoration-color: #7f7f7f\">10 </span><span style=\"color: #7f7f7f; text-decoration-color: #7f7f7f\">│    </span>pickle.dump(model,f)                                                                   <span style=\"color: #800000; text-decoration-color: #800000\">│</span>\n",
       "<span style=\"color: #800000; text-decoration-color: #800000\">│</span>                                                                                                  <span style=\"color: #800000; text-decoration-color: #800000\">│</span>\n",
       "<span style=\"color: #800000; text-decoration-color: #800000\">│</span> <span style=\"color: #808000; text-decoration-color: #808000\">c:\\Work\\Weather_Aus\\venv\\lib\\site-packages\\sklearn\\linear_model\\_logistic.py</span>:<span style=\"color: #0000ff; text-decoration-color: #0000ff\">1196</span> in <span style=\"color: #00ff00; text-decoration-color: #00ff00\">fit</span>         <span style=\"color: #800000; text-decoration-color: #800000\">│</span>\n",
       "<span style=\"color: #800000; text-decoration-color: #800000\">│</span>                                                                                                  <span style=\"color: #800000; text-decoration-color: #800000\">│</span>\n",
       "<span style=\"color: #800000; text-decoration-color: #800000\">│</span>   <span style=\"color: #7f7f7f; text-decoration-color: #7f7f7f\">1193 </span><span style=\"color: #7f7f7f; text-decoration-color: #7f7f7f\">│   │   </span><span style=\"color: #0000ff; text-decoration-color: #0000ff\">else</span>:                                                                             <span style=\"color: #800000; text-decoration-color: #800000\">│</span>\n",
       "<span style=\"color: #800000; text-decoration-color: #800000\">│</span>   <span style=\"color: #7f7f7f; text-decoration-color: #7f7f7f\">1194 </span><span style=\"color: #7f7f7f; text-decoration-color: #7f7f7f\">│   │   │   </span>_dtype = [np.float64, np.float32]                                             <span style=\"color: #800000; text-decoration-color: #800000\">│</span>\n",
       "<span style=\"color: #800000; text-decoration-color: #800000\">│</span>   <span style=\"color: #7f7f7f; text-decoration-color: #7f7f7f\">1195 </span><span style=\"color: #7f7f7f; text-decoration-color: #7f7f7f\">│   │   </span>                                                                                  <span style=\"color: #800000; text-decoration-color: #800000\">│</span>\n",
       "<span style=\"color: #800000; text-decoration-color: #800000\">│</span> <span style=\"color: #800000; text-decoration-color: #800000\">❱ </span>1196 <span style=\"color: #7f7f7f; text-decoration-color: #7f7f7f\">│   │   </span>X, y = <span style=\"color: #00ffff; text-decoration-color: #00ffff\">self</span>._validate_data(                                                       <span style=\"color: #800000; text-decoration-color: #800000\">│</span>\n",
       "<span style=\"color: #800000; text-decoration-color: #800000\">│</span>   <span style=\"color: #7f7f7f; text-decoration-color: #7f7f7f\">1197 </span><span style=\"color: #7f7f7f; text-decoration-color: #7f7f7f\">│   │   │   </span>X,                                                                            <span style=\"color: #800000; text-decoration-color: #800000\">│</span>\n",
       "<span style=\"color: #800000; text-decoration-color: #800000\">│</span>   <span style=\"color: #7f7f7f; text-decoration-color: #7f7f7f\">1198 </span><span style=\"color: #7f7f7f; text-decoration-color: #7f7f7f\">│   │   │   </span>y,                                                                            <span style=\"color: #800000; text-decoration-color: #800000\">│</span>\n",
       "<span style=\"color: #800000; text-decoration-color: #800000\">│</span>   <span style=\"color: #7f7f7f; text-decoration-color: #7f7f7f\">1199 </span><span style=\"color: #7f7f7f; text-decoration-color: #7f7f7f\">│   │   │   </span>accept_sparse=<span style=\"color: #808000; text-decoration-color: #808000\">\"csr\"</span>,                                                          <span style=\"color: #800000; text-decoration-color: #800000\">│</span>\n",
       "<span style=\"color: #800000; text-decoration-color: #800000\">│</span>                                                                                                  <span style=\"color: #800000; text-decoration-color: #800000\">│</span>\n",
       "<span style=\"color: #800000; text-decoration-color: #800000\">│</span> <span style=\"color: #808000; text-decoration-color: #808000\">c:\\Work\\Weather_Aus\\venv\\lib\\site-packages\\sklearn\\base.py</span>:<span style=\"color: #0000ff; text-decoration-color: #0000ff\">584</span> in <span style=\"color: #00ff00; text-decoration-color: #00ff00\">_validate_data</span>                 <span style=\"color: #800000; text-decoration-color: #800000\">│</span>\n",
       "<span style=\"color: #800000; text-decoration-color: #800000\">│</span>                                                                                                  <span style=\"color: #800000; text-decoration-color: #800000\">│</span>\n",
       "<span style=\"color: #800000; text-decoration-color: #800000\">│</span>   <span style=\"color: #7f7f7f; text-decoration-color: #7f7f7f\"> 581 </span><span style=\"color: #7f7f7f; text-decoration-color: #7f7f7f\">│   │   │   │   │   </span>check_y_params = {**default_check_params, **check_y_params}           <span style=\"color: #800000; text-decoration-color: #800000\">│</span>\n",
       "<span style=\"color: #800000; text-decoration-color: #800000\">│</span>   <span style=\"color: #7f7f7f; text-decoration-color: #7f7f7f\"> 582 </span><span style=\"color: #7f7f7f; text-decoration-color: #7f7f7f\">│   │   │   │   </span>y = check_array(y, input_name=<span style=\"color: #808000; text-decoration-color: #808000\">\"y\"</span>, **check_y_params)                      <span style=\"color: #800000; text-decoration-color: #800000\">│</span>\n",
       "<span style=\"color: #800000; text-decoration-color: #800000\">│</span>   <span style=\"color: #7f7f7f; text-decoration-color: #7f7f7f\"> 583 </span><span style=\"color: #7f7f7f; text-decoration-color: #7f7f7f\">│   │   │   </span><span style=\"color: #0000ff; text-decoration-color: #0000ff\">else</span>:                                                                         <span style=\"color: #800000; text-decoration-color: #800000\">│</span>\n",
       "<span style=\"color: #800000; text-decoration-color: #800000\">│</span> <span style=\"color: #800000; text-decoration-color: #800000\">❱ </span> 584 <span style=\"color: #7f7f7f; text-decoration-color: #7f7f7f\">│   │   │   │   </span>X, y = check_X_y(X, y, **check_params)                                    <span style=\"color: #800000; text-decoration-color: #800000\">│</span>\n",
       "<span style=\"color: #800000; text-decoration-color: #800000\">│</span>   <span style=\"color: #7f7f7f; text-decoration-color: #7f7f7f\"> 585 </span><span style=\"color: #7f7f7f; text-decoration-color: #7f7f7f\">│   │   │   </span>out = X, y                                                                    <span style=\"color: #800000; text-decoration-color: #800000\">│</span>\n",
       "<span style=\"color: #800000; text-decoration-color: #800000\">│</span>   <span style=\"color: #7f7f7f; text-decoration-color: #7f7f7f\"> 586 </span><span style=\"color: #7f7f7f; text-decoration-color: #7f7f7f\">│   │   </span>                                                                                  <span style=\"color: #800000; text-decoration-color: #800000\">│</span>\n",
       "<span style=\"color: #800000; text-decoration-color: #800000\">│</span>   <span style=\"color: #7f7f7f; text-decoration-color: #7f7f7f\"> 587 </span><span style=\"color: #7f7f7f; text-decoration-color: #7f7f7f\">│   │   </span><span style=\"color: #0000ff; text-decoration-color: #0000ff\">if</span> <span style=\"color: #ff00ff; text-decoration-color: #ff00ff\">not</span> no_val_X <span style=\"color: #ff00ff; text-decoration-color: #ff00ff\">and</span> check_params.get(<span style=\"color: #808000; text-decoration-color: #808000\">\"ensure_2d\"</span>, <span style=\"color: #0000ff; text-decoration-color: #0000ff\">True</span>):                          <span style=\"color: #800000; text-decoration-color: #800000\">│</span>\n",
       "<span style=\"color: #800000; text-decoration-color: #800000\">│</span>                                                                                                  <span style=\"color: #800000; text-decoration-color: #800000\">│</span>\n",
       "<span style=\"color: #800000; text-decoration-color: #800000\">│</span> <span style=\"color: #808000; text-decoration-color: #808000\">c:\\Work\\Weather_Aus\\venv\\lib\\site-packages\\sklearn\\utils\\validation.py</span>:<span style=\"color: #0000ff; text-decoration-color: #0000ff\">1122</span> in <span style=\"color: #00ff00; text-decoration-color: #00ff00\">check_X_y</span>         <span style=\"color: #800000; text-decoration-color: #800000\">│</span>\n",
       "<span style=\"color: #800000; text-decoration-color: #800000\">│</span>                                                                                                  <span style=\"color: #800000; text-decoration-color: #800000\">│</span>\n",
       "<span style=\"color: #800000; text-decoration-color: #800000\">│</span>   <span style=\"color: #7f7f7f; text-decoration-color: #7f7f7f\">1119 </span><span style=\"color: #7f7f7f; text-decoration-color: #7f7f7f\">│   │   </span>input_name=<span style=\"color: #808000; text-decoration-color: #808000\">\"X\"</span>,                                                                   <span style=\"color: #800000; text-decoration-color: #800000\">│</span>\n",
       "<span style=\"color: #800000; text-decoration-color: #800000\">│</span>   <span style=\"color: #7f7f7f; text-decoration-color: #7f7f7f\">1120 </span><span style=\"color: #7f7f7f; text-decoration-color: #7f7f7f\">│   </span>)                                                                                     <span style=\"color: #800000; text-decoration-color: #800000\">│</span>\n",
       "<span style=\"color: #800000; text-decoration-color: #800000\">│</span>   <span style=\"color: #7f7f7f; text-decoration-color: #7f7f7f\">1121 </span><span style=\"color: #7f7f7f; text-decoration-color: #7f7f7f\">│   </span>                                                                                      <span style=\"color: #800000; text-decoration-color: #800000\">│</span>\n",
       "<span style=\"color: #800000; text-decoration-color: #800000\">│</span> <span style=\"color: #800000; text-decoration-color: #800000\">❱ </span>1122 <span style=\"color: #7f7f7f; text-decoration-color: #7f7f7f\">│   </span>y = _check_y(y, multi_output=multi_output, y_numeric=y_numeric, estimator=estimator)  <span style=\"color: #800000; text-decoration-color: #800000\">│</span>\n",
       "<span style=\"color: #800000; text-decoration-color: #800000\">│</span>   <span style=\"color: #7f7f7f; text-decoration-color: #7f7f7f\">1123 </span><span style=\"color: #7f7f7f; text-decoration-color: #7f7f7f\">│   </span>                                                                                      <span style=\"color: #800000; text-decoration-color: #800000\">│</span>\n",
       "<span style=\"color: #800000; text-decoration-color: #800000\">│</span>   <span style=\"color: #7f7f7f; text-decoration-color: #7f7f7f\">1124 </span><span style=\"color: #7f7f7f; text-decoration-color: #7f7f7f\">│   </span>check_consistent_length(X, y)                                                         <span style=\"color: #800000; text-decoration-color: #800000\">│</span>\n",
       "<span style=\"color: #800000; text-decoration-color: #800000\">│</span>   <span style=\"color: #7f7f7f; text-decoration-color: #7f7f7f\">1125 </span>                                                                                          <span style=\"color: #800000; text-decoration-color: #800000\">│</span>\n",
       "<span style=\"color: #800000; text-decoration-color: #800000\">│</span>                                                                                                  <span style=\"color: #800000; text-decoration-color: #800000\">│</span>\n",
       "<span style=\"color: #800000; text-decoration-color: #800000\">│</span> <span style=\"color: #808000; text-decoration-color: #808000\">c:\\Work\\Weather_Aus\\venv\\lib\\site-packages\\sklearn\\utils\\validation.py</span>:<span style=\"color: #0000ff; text-decoration-color: #0000ff\">1143</span> in <span style=\"color: #00ff00; text-decoration-color: #00ff00\">_check_y</span>          <span style=\"color: #800000; text-decoration-color: #800000\">│</span>\n",
       "<span style=\"color: #800000; text-decoration-color: #800000\">│</span>                                                                                                  <span style=\"color: #800000; text-decoration-color: #800000\">│</span>\n",
       "<span style=\"color: #800000; text-decoration-color: #800000\">│</span>   <span style=\"color: #7f7f7f; text-decoration-color: #7f7f7f\">1140 </span><span style=\"color: #7f7f7f; text-decoration-color: #7f7f7f\">│   │   </span>)                                                                                 <span style=\"color: #800000; text-decoration-color: #800000\">│</span>\n",
       "<span style=\"color: #800000; text-decoration-color: #800000\">│</span>   <span style=\"color: #7f7f7f; text-decoration-color: #7f7f7f\">1141 </span><span style=\"color: #7f7f7f; text-decoration-color: #7f7f7f\">│   </span><span style=\"color: #0000ff; text-decoration-color: #0000ff\">else</span>:                                                                                 <span style=\"color: #800000; text-decoration-color: #800000\">│</span>\n",
       "<span style=\"color: #800000; text-decoration-color: #800000\">│</span>   <span style=\"color: #7f7f7f; text-decoration-color: #7f7f7f\">1142 </span><span style=\"color: #7f7f7f; text-decoration-color: #7f7f7f\">│   │   </span>estimator_name = _check_estimator_name(estimator)                                 <span style=\"color: #800000; text-decoration-color: #800000\">│</span>\n",
       "<span style=\"color: #800000; text-decoration-color: #800000\">│</span> <span style=\"color: #800000; text-decoration-color: #800000\">❱ </span>1143 <span style=\"color: #7f7f7f; text-decoration-color: #7f7f7f\">│   │   </span>y = column_or_1d(y, warn=<span style=\"color: #0000ff; text-decoration-color: #0000ff\">True</span>)                                                    <span style=\"color: #800000; text-decoration-color: #800000\">│</span>\n",
       "<span style=\"color: #800000; text-decoration-color: #800000\">│</span>   <span style=\"color: #7f7f7f; text-decoration-color: #7f7f7f\">1144 </span><span style=\"color: #7f7f7f; text-decoration-color: #7f7f7f\">│   │   </span>_assert_all_finite(y, input_name=<span style=\"color: #808000; text-decoration-color: #808000\">\"y\"</span>, estimator_name=estimator_name)              <span style=\"color: #800000; text-decoration-color: #800000\">│</span>\n",
       "<span style=\"color: #800000; text-decoration-color: #800000\">│</span>   <span style=\"color: #7f7f7f; text-decoration-color: #7f7f7f\">1145 </span><span style=\"color: #7f7f7f; text-decoration-color: #7f7f7f\">│   │   </span>_ensure_no_complex_data(y)                                                        <span style=\"color: #800000; text-decoration-color: #800000\">│</span>\n",
       "<span style=\"color: #800000; text-decoration-color: #800000\">│</span>   <span style=\"color: #7f7f7f; text-decoration-color: #7f7f7f\">1146 </span><span style=\"color: #7f7f7f; text-decoration-color: #7f7f7f\">│   </span><span style=\"color: #0000ff; text-decoration-color: #0000ff\">if</span> y_numeric <span style=\"color: #ff00ff; text-decoration-color: #ff00ff\">and</span> y.dtype.kind == <span style=\"color: #808000; text-decoration-color: #808000\">\"O\"</span>:                                                 <span style=\"color: #800000; text-decoration-color: #800000\">│</span>\n",
       "<span style=\"color: #800000; text-decoration-color: #800000\">│</span>                                                                                                  <span style=\"color: #800000; text-decoration-color: #800000\">│</span>\n",
       "<span style=\"color: #800000; text-decoration-color: #800000\">│</span> <span style=\"color: #808000; text-decoration-color: #808000\">c:\\Work\\Weather_Aus\\venv\\lib\\site-packages\\sklearn\\utils\\validation.py</span>:<span style=\"color: #0000ff; text-decoration-color: #0000ff\">1202</span> in <span style=\"color: #00ff00; text-decoration-color: #00ff00\">column_or_1d</span>      <span style=\"color: #800000; text-decoration-color: #800000\">│</span>\n",
       "<span style=\"color: #800000; text-decoration-color: #800000\">│</span>                                                                                                  <span style=\"color: #800000; text-decoration-color: #800000\">│</span>\n",
       "<span style=\"color: #800000; text-decoration-color: #800000\">│</span>   <span style=\"color: #7f7f7f; text-decoration-color: #7f7f7f\">1199 </span><span style=\"color: #7f7f7f; text-decoration-color: #7f7f7f\">│   │   │   </span>)                                                                             <span style=\"color: #800000; text-decoration-color: #800000\">│</span>\n",
       "<span style=\"color: #800000; text-decoration-color: #800000\">│</span>   <span style=\"color: #7f7f7f; text-decoration-color: #7f7f7f\">1200 </span><span style=\"color: #7f7f7f; text-decoration-color: #7f7f7f\">│   │   </span><span style=\"color: #0000ff; text-decoration-color: #0000ff\">return</span> _asarray_with_order(xp.reshape(y, -<span style=\"color: #0000ff; text-decoration-color: #0000ff\">1</span>), order=<span style=\"color: #808000; text-decoration-color: #808000\">\"C\"</span>, xp=xp)                   <span style=\"color: #800000; text-decoration-color: #800000\">│</span>\n",
       "<span style=\"color: #800000; text-decoration-color: #800000\">│</span>   <span style=\"color: #7f7f7f; text-decoration-color: #7f7f7f\">1201 </span><span style=\"color: #7f7f7f; text-decoration-color: #7f7f7f\">│   </span>                                                                                      <span style=\"color: #800000; text-decoration-color: #800000\">│</span>\n",
       "<span style=\"color: #800000; text-decoration-color: #800000\">│</span> <span style=\"color: #800000; text-decoration-color: #800000\">❱ </span>1202 <span style=\"color: #7f7f7f; text-decoration-color: #7f7f7f\">│   </span><span style=\"color: #0000ff; text-decoration-color: #0000ff\">raise</span> <span style=\"color: #00ffff; text-decoration-color: #00ffff\">ValueError</span>(                                                                     <span style=\"color: #800000; text-decoration-color: #800000\">│</span>\n",
       "<span style=\"color: #800000; text-decoration-color: #800000\">│</span>   <span style=\"color: #7f7f7f; text-decoration-color: #7f7f7f\">1203 </span><span style=\"color: #7f7f7f; text-decoration-color: #7f7f7f\">│   │   </span><span style=\"color: #808000; text-decoration-color: #808000\">\"y should be a 1d array, got an array of shape {} instead.\"</span>.format(shape)         <span style=\"color: #800000; text-decoration-color: #800000\">│</span>\n",
       "<span style=\"color: #800000; text-decoration-color: #800000\">│</span>   <span style=\"color: #7f7f7f; text-decoration-color: #7f7f7f\">1204 </span><span style=\"color: #7f7f7f; text-decoration-color: #7f7f7f\">│   </span>)                                                                                     <span style=\"color: #800000; text-decoration-color: #800000\">│</span>\n",
       "<span style=\"color: #800000; text-decoration-color: #800000\">│</span>   <span style=\"color: #7f7f7f; text-decoration-color: #7f7f7f\">1205 </span>                                                                                          <span style=\"color: #800000; text-decoration-color: #800000\">│</span>\n",
       "<span style=\"color: #800000; text-decoration-color: #800000\">╰──────────────────────────────────────────────────────────────────────────────────────────────────╯</span>\n",
       "<span style=\"color: #ff0000; text-decoration-color: #ff0000; font-weight: bold\">ValueError: </span>y should be a 1d array, got an array of shape <span style=\"font-weight: bold\">(</span><span style=\"color: #008080; text-decoration-color: #008080; font-weight: bold\">113754</span>, <span style=\"color: #008080; text-decoration-color: #008080; font-weight: bold\">21</span><span style=\"font-weight: bold\">)</span> instead.\n",
       "</pre>\n"
      ],
      "text/plain": [
       "\u001b[31m╭─\u001b[0m\u001b[31m──────────────────────────────\u001b[0m\u001b[31m \u001b[0m\u001b[1;31mTraceback \u001b[0m\u001b[1;2;31m(most recent call last)\u001b[0m\u001b[31m \u001b[0m\u001b[31m───────────────────────────────\u001b[0m\u001b[31m─╮\u001b[0m\n",
       "\u001b[31m│\u001b[0m in \u001b[92m<module>\u001b[0m:\u001b[94m1\u001b[0m                                                                                    \u001b[31m│\u001b[0m\n",
       "\u001b[31m│\u001b[0m                                                                                                  \u001b[31m│\u001b[0m\n",
       "\u001b[31m│\u001b[0m \u001b[31m❱ \u001b[0m1 model = logregAlgorithm(X_train,X_test,y_train,y_test)                                       \u001b[31m│\u001b[0m\n",
       "\u001b[31m│\u001b[0m   \u001b[2m2 \u001b[0m                                                                                             \u001b[31m│\u001b[0m\n",
       "\u001b[31m│\u001b[0m                                                                                                  \u001b[31m│\u001b[0m\n",
       "\u001b[31m│\u001b[0m in \u001b[92mlogregAlgorithm\u001b[0m:\u001b[94m7\u001b[0m                                                                             \u001b[31m│\u001b[0m\n",
       "\u001b[31m│\u001b[0m                                                                                                  \u001b[31m│\u001b[0m\n",
       "\u001b[31m│\u001b[0m   \u001b[2m 4 \u001b[0m\u001b[2;33m│   \u001b[0m\u001b[33mReturn:y_pred_train,y_pred_test\"\"\"\u001b[0m                                                      \u001b[31m│\u001b[0m\n",
       "\u001b[31m│\u001b[0m   \u001b[2m 5 \u001b[0m\u001b[2m│   \u001b[0m\u001b[94mfrom\u001b[0m \u001b[4;96msklearn\u001b[0m\u001b[4;96m.\u001b[0m\u001b[4;96mlinear_model\u001b[0m \u001b[94mimport\u001b[0m LogisticRegression                                     \u001b[31m│\u001b[0m\n",
       "\u001b[31m│\u001b[0m   \u001b[2m 6 \u001b[0m\u001b[2m│   \u001b[0mlogreg = LogisticRegression(solver=\u001b[33m'\u001b[0m\u001b[33mliblinear\u001b[0m\u001b[33m'\u001b[0m,random_state=\u001b[94m0\u001b[0m)                          \u001b[31m│\u001b[0m\n",
       "\u001b[31m│\u001b[0m \u001b[31m❱ \u001b[0m 7 \u001b[2m│   \u001b[0mmodel = logreg.fit(X_train,y_train)                                                     \u001b[31m│\u001b[0m\n",
       "\u001b[31m│\u001b[0m   \u001b[2m 8 \u001b[0m\u001b[2m│   \u001b[0m\u001b[94mimport\u001b[0m \u001b[4;96mpickle\u001b[0m                                                                           \u001b[31m│\u001b[0m\n",
       "\u001b[31m│\u001b[0m   \u001b[2m 9 \u001b[0m\u001b[2m│   \u001b[0m\u001b[94mwith\u001b[0m \u001b[96mopen\u001b[0m(\u001b[33m'\u001b[0m\u001b[33mLogistic_Regression.pkl\u001b[0m\u001b[33m'\u001b[0m,\u001b[33m'\u001b[0m\u001b[33mw\u001b[0m\u001b[33m'\u001b[0m) \u001b[94mas\u001b[0m f:                                          \u001b[31m│\u001b[0m\n",
       "\u001b[31m│\u001b[0m   \u001b[2m10 \u001b[0m\u001b[2m│    \u001b[0mpickle.dump(model,f)                                                                   \u001b[31m│\u001b[0m\n",
       "\u001b[31m│\u001b[0m                                                                                                  \u001b[31m│\u001b[0m\n",
       "\u001b[31m│\u001b[0m \u001b[33mc:\\Work\\Weather_Aus\\venv\\lib\\site-packages\\sklearn\\linear_model\\_logistic.py\u001b[0m:\u001b[94m1196\u001b[0m in \u001b[92mfit\u001b[0m         \u001b[31m│\u001b[0m\n",
       "\u001b[31m│\u001b[0m                                                                                                  \u001b[31m│\u001b[0m\n",
       "\u001b[31m│\u001b[0m   \u001b[2m1193 \u001b[0m\u001b[2m│   │   \u001b[0m\u001b[94melse\u001b[0m:                                                                             \u001b[31m│\u001b[0m\n",
       "\u001b[31m│\u001b[0m   \u001b[2m1194 \u001b[0m\u001b[2m│   │   │   \u001b[0m_dtype = [np.float64, np.float32]                                             \u001b[31m│\u001b[0m\n",
       "\u001b[31m│\u001b[0m   \u001b[2m1195 \u001b[0m\u001b[2m│   │   \u001b[0m                                                                                  \u001b[31m│\u001b[0m\n",
       "\u001b[31m│\u001b[0m \u001b[31m❱ \u001b[0m1196 \u001b[2m│   │   \u001b[0mX, y = \u001b[96mself\u001b[0m._validate_data(                                                       \u001b[31m│\u001b[0m\n",
       "\u001b[31m│\u001b[0m   \u001b[2m1197 \u001b[0m\u001b[2m│   │   │   \u001b[0mX,                                                                            \u001b[31m│\u001b[0m\n",
       "\u001b[31m│\u001b[0m   \u001b[2m1198 \u001b[0m\u001b[2m│   │   │   \u001b[0my,                                                                            \u001b[31m│\u001b[0m\n",
       "\u001b[31m│\u001b[0m   \u001b[2m1199 \u001b[0m\u001b[2m│   │   │   \u001b[0maccept_sparse=\u001b[33m\"\u001b[0m\u001b[33mcsr\u001b[0m\u001b[33m\"\u001b[0m,                                                          \u001b[31m│\u001b[0m\n",
       "\u001b[31m│\u001b[0m                                                                                                  \u001b[31m│\u001b[0m\n",
       "\u001b[31m│\u001b[0m \u001b[33mc:\\Work\\Weather_Aus\\venv\\lib\\site-packages\\sklearn\\base.py\u001b[0m:\u001b[94m584\u001b[0m in \u001b[92m_validate_data\u001b[0m                 \u001b[31m│\u001b[0m\n",
       "\u001b[31m│\u001b[0m                                                                                                  \u001b[31m│\u001b[0m\n",
       "\u001b[31m│\u001b[0m   \u001b[2m 581 \u001b[0m\u001b[2m│   │   │   │   │   \u001b[0mcheck_y_params = {**default_check_params, **check_y_params}           \u001b[31m│\u001b[0m\n",
       "\u001b[31m│\u001b[0m   \u001b[2m 582 \u001b[0m\u001b[2m│   │   │   │   \u001b[0my = check_array(y, input_name=\u001b[33m\"\u001b[0m\u001b[33my\u001b[0m\u001b[33m\"\u001b[0m, **check_y_params)                      \u001b[31m│\u001b[0m\n",
       "\u001b[31m│\u001b[0m   \u001b[2m 583 \u001b[0m\u001b[2m│   │   │   \u001b[0m\u001b[94melse\u001b[0m:                                                                         \u001b[31m│\u001b[0m\n",
       "\u001b[31m│\u001b[0m \u001b[31m❱ \u001b[0m 584 \u001b[2m│   │   │   │   \u001b[0mX, y = check_X_y(X, y, **check_params)                                    \u001b[31m│\u001b[0m\n",
       "\u001b[31m│\u001b[0m   \u001b[2m 585 \u001b[0m\u001b[2m│   │   │   \u001b[0mout = X, y                                                                    \u001b[31m│\u001b[0m\n",
       "\u001b[31m│\u001b[0m   \u001b[2m 586 \u001b[0m\u001b[2m│   │   \u001b[0m                                                                                  \u001b[31m│\u001b[0m\n",
       "\u001b[31m│\u001b[0m   \u001b[2m 587 \u001b[0m\u001b[2m│   │   \u001b[0m\u001b[94mif\u001b[0m \u001b[95mnot\u001b[0m no_val_X \u001b[95mand\u001b[0m check_params.get(\u001b[33m\"\u001b[0m\u001b[33mensure_2d\u001b[0m\u001b[33m\"\u001b[0m, \u001b[94mTrue\u001b[0m):                          \u001b[31m│\u001b[0m\n",
       "\u001b[31m│\u001b[0m                                                                                                  \u001b[31m│\u001b[0m\n",
       "\u001b[31m│\u001b[0m \u001b[33mc:\\Work\\Weather_Aus\\venv\\lib\\site-packages\\sklearn\\utils\\validation.py\u001b[0m:\u001b[94m1122\u001b[0m in \u001b[92mcheck_X_y\u001b[0m         \u001b[31m│\u001b[0m\n",
       "\u001b[31m│\u001b[0m                                                                                                  \u001b[31m│\u001b[0m\n",
       "\u001b[31m│\u001b[0m   \u001b[2m1119 \u001b[0m\u001b[2m│   │   \u001b[0minput_name=\u001b[33m\"\u001b[0m\u001b[33mX\u001b[0m\u001b[33m\"\u001b[0m,                                                                   \u001b[31m│\u001b[0m\n",
       "\u001b[31m│\u001b[0m   \u001b[2m1120 \u001b[0m\u001b[2m│   \u001b[0m)                                                                                     \u001b[31m│\u001b[0m\n",
       "\u001b[31m│\u001b[0m   \u001b[2m1121 \u001b[0m\u001b[2m│   \u001b[0m                                                                                      \u001b[31m│\u001b[0m\n",
       "\u001b[31m│\u001b[0m \u001b[31m❱ \u001b[0m1122 \u001b[2m│   \u001b[0my = _check_y(y, multi_output=multi_output, y_numeric=y_numeric, estimator=estimator)  \u001b[31m│\u001b[0m\n",
       "\u001b[31m│\u001b[0m   \u001b[2m1123 \u001b[0m\u001b[2m│   \u001b[0m                                                                                      \u001b[31m│\u001b[0m\n",
       "\u001b[31m│\u001b[0m   \u001b[2m1124 \u001b[0m\u001b[2m│   \u001b[0mcheck_consistent_length(X, y)                                                         \u001b[31m│\u001b[0m\n",
       "\u001b[31m│\u001b[0m   \u001b[2m1125 \u001b[0m                                                                                          \u001b[31m│\u001b[0m\n",
       "\u001b[31m│\u001b[0m                                                                                                  \u001b[31m│\u001b[0m\n",
       "\u001b[31m│\u001b[0m \u001b[33mc:\\Work\\Weather_Aus\\venv\\lib\\site-packages\\sklearn\\utils\\validation.py\u001b[0m:\u001b[94m1143\u001b[0m in \u001b[92m_check_y\u001b[0m          \u001b[31m│\u001b[0m\n",
       "\u001b[31m│\u001b[0m                                                                                                  \u001b[31m│\u001b[0m\n",
       "\u001b[31m│\u001b[0m   \u001b[2m1140 \u001b[0m\u001b[2m│   │   \u001b[0m)                                                                                 \u001b[31m│\u001b[0m\n",
       "\u001b[31m│\u001b[0m   \u001b[2m1141 \u001b[0m\u001b[2m│   \u001b[0m\u001b[94melse\u001b[0m:                                                                                 \u001b[31m│\u001b[0m\n",
       "\u001b[31m│\u001b[0m   \u001b[2m1142 \u001b[0m\u001b[2m│   │   \u001b[0mestimator_name = _check_estimator_name(estimator)                                 \u001b[31m│\u001b[0m\n",
       "\u001b[31m│\u001b[0m \u001b[31m❱ \u001b[0m1143 \u001b[2m│   │   \u001b[0my = column_or_1d(y, warn=\u001b[94mTrue\u001b[0m)                                                    \u001b[31m│\u001b[0m\n",
       "\u001b[31m│\u001b[0m   \u001b[2m1144 \u001b[0m\u001b[2m│   │   \u001b[0m_assert_all_finite(y, input_name=\u001b[33m\"\u001b[0m\u001b[33my\u001b[0m\u001b[33m\"\u001b[0m, estimator_name=estimator_name)              \u001b[31m│\u001b[0m\n",
       "\u001b[31m│\u001b[0m   \u001b[2m1145 \u001b[0m\u001b[2m│   │   \u001b[0m_ensure_no_complex_data(y)                                                        \u001b[31m│\u001b[0m\n",
       "\u001b[31m│\u001b[0m   \u001b[2m1146 \u001b[0m\u001b[2m│   \u001b[0m\u001b[94mif\u001b[0m y_numeric \u001b[95mand\u001b[0m y.dtype.kind == \u001b[33m\"\u001b[0m\u001b[33mO\u001b[0m\u001b[33m\"\u001b[0m:                                                 \u001b[31m│\u001b[0m\n",
       "\u001b[31m│\u001b[0m                                                                                                  \u001b[31m│\u001b[0m\n",
       "\u001b[31m│\u001b[0m \u001b[33mc:\\Work\\Weather_Aus\\venv\\lib\\site-packages\\sklearn\\utils\\validation.py\u001b[0m:\u001b[94m1202\u001b[0m in \u001b[92mcolumn_or_1d\u001b[0m      \u001b[31m│\u001b[0m\n",
       "\u001b[31m│\u001b[0m                                                                                                  \u001b[31m│\u001b[0m\n",
       "\u001b[31m│\u001b[0m   \u001b[2m1199 \u001b[0m\u001b[2m│   │   │   \u001b[0m)                                                                             \u001b[31m│\u001b[0m\n",
       "\u001b[31m│\u001b[0m   \u001b[2m1200 \u001b[0m\u001b[2m│   │   \u001b[0m\u001b[94mreturn\u001b[0m _asarray_with_order(xp.reshape(y, -\u001b[94m1\u001b[0m), order=\u001b[33m\"\u001b[0m\u001b[33mC\u001b[0m\u001b[33m\"\u001b[0m, xp=xp)                   \u001b[31m│\u001b[0m\n",
       "\u001b[31m│\u001b[0m   \u001b[2m1201 \u001b[0m\u001b[2m│   \u001b[0m                                                                                      \u001b[31m│\u001b[0m\n",
       "\u001b[31m│\u001b[0m \u001b[31m❱ \u001b[0m1202 \u001b[2m│   \u001b[0m\u001b[94mraise\u001b[0m \u001b[96mValueError\u001b[0m(                                                                     \u001b[31m│\u001b[0m\n",
       "\u001b[31m│\u001b[0m   \u001b[2m1203 \u001b[0m\u001b[2m│   │   \u001b[0m\u001b[33m\"\u001b[0m\u001b[33my should be a 1d array, got an array of shape \u001b[0m\u001b[33m{}\u001b[0m\u001b[33m instead.\u001b[0m\u001b[33m\"\u001b[0m.format(shape)         \u001b[31m│\u001b[0m\n",
       "\u001b[31m│\u001b[0m   \u001b[2m1204 \u001b[0m\u001b[2m│   \u001b[0m)                                                                                     \u001b[31m│\u001b[0m\n",
       "\u001b[31m│\u001b[0m   \u001b[2m1205 \u001b[0m                                                                                          \u001b[31m│\u001b[0m\n",
       "\u001b[31m╰──────────────────────────────────────────────────────────────────────────────────────────────────╯\u001b[0m\n",
       "\u001b[1;91mValueError: \u001b[0my should be a 1d array, got an array of shape \u001b[1m(\u001b[0m\u001b[1;36m113754\u001b[0m, \u001b[1;36m21\u001b[0m\u001b[1m)\u001b[0m instead.\n"
      ]
     },
     "metadata": {},
     "output_type": "display_data"
    }
   ],
   "source": [
    "model = logregAlgorithm(X_train,X_test,y_train,y_test)"
   ]
  },
  {
   "cell_type": "code",
   "execution_count": 90,
   "id": "973c936e-413a-487f-9736-01cf004cd903",
   "metadata": {},
   "outputs": [],
   "source": [
    "def prediction(X_train,X_test,y_train,y_test,logreg):\n",
    "    \"\"\"Prediction is used\n",
    "    Args: X_train,X_test,y_train,y_test,model\n",
    "    Return: y_pred_train,y_pred_test\"\"\"\n",
    "    \n",
    "    y_pred_train = model.predict(X_train)\n",
    "    y_pred_test = model.predict(X_test)\n",
    "    return y_pred_train\n",
    "    return y_pred_test"
   ]
  },
  {
   "cell_type": "code",
   "execution_count": 94,
   "id": "3e35692b-0c03-45a6-a7a3-4104796e1068",
   "metadata": {},
   "outputs": [
    {
     "data": {
      "text/html": [
       "<pre style=\"white-space:pre;overflow-x:auto;line-height:normal;font-family:Menlo,'DejaVu Sans Mono',consolas,'Courier New',monospace\"><span style=\"color: #800000; text-decoration-color: #800000\">╭─────────────────────────────── </span><span style=\"color: #800000; text-decoration-color: #800000; font-weight: bold\">Traceback </span><span style=\"color: #bf7f7f; text-decoration-color: #bf7f7f; font-weight: bold\">(most recent call last)</span><span style=\"color: #800000; text-decoration-color: #800000\"> ────────────────────────────────╮</span>\n",
       "<span style=\"color: #800000; text-decoration-color: #800000\">│</span> in <span style=\"color: #00ff00; text-decoration-color: #00ff00\">&lt;module&gt;</span>:<span style=\"color: #0000ff; text-decoration-color: #0000ff\">1</span>                                                                                    <span style=\"color: #800000; text-decoration-color: #800000\">│</span>\n",
       "<span style=\"color: #800000; text-decoration-color: #800000\">│</span>                                                                                                  <span style=\"color: #800000; text-decoration-color: #800000\">│</span>\n",
       "<span style=\"color: #800000; text-decoration-color: #800000\">│</span> <span style=\"color: #800000; text-decoration-color: #800000\">❱ </span>1 y_pred_train= prediction(X_train,X_test,y_train,y_test,model)                                <span style=\"color: #800000; text-decoration-color: #800000\">│</span>\n",
       "<span style=\"color: #800000; text-decoration-color: #800000\">│</span>   <span style=\"color: #7f7f7f; text-decoration-color: #7f7f7f\">2 </span>y_pred_test = prediction(X_train,X_test,y_train,y_test,model)                                <span style=\"color: #800000; text-decoration-color: #800000\">│</span>\n",
       "<span style=\"color: #800000; text-decoration-color: #800000\">│</span>   <span style=\"color: #7f7f7f; text-decoration-color: #7f7f7f\">3 </span>                                                                                             <span style=\"color: #800000; text-decoration-color: #800000\">│</span>\n",
       "<span style=\"color: #800000; text-decoration-color: #800000\">╰──────────────────────────────────────────────────────────────────────────────────────────────────╯</span>\n",
       "<span style=\"color: #ff0000; text-decoration-color: #ff0000; font-weight: bold\">NameError: </span>name <span style=\"color: #008000; text-decoration-color: #008000\">'model'</span> is not defined\n",
       "</pre>\n"
      ],
      "text/plain": [
       "\u001b[31m╭─\u001b[0m\u001b[31m──────────────────────────────\u001b[0m\u001b[31m \u001b[0m\u001b[1;31mTraceback \u001b[0m\u001b[1;2;31m(most recent call last)\u001b[0m\u001b[31m \u001b[0m\u001b[31m───────────────────────────────\u001b[0m\u001b[31m─╮\u001b[0m\n",
       "\u001b[31m│\u001b[0m in \u001b[92m<module>\u001b[0m:\u001b[94m1\u001b[0m                                                                                    \u001b[31m│\u001b[0m\n",
       "\u001b[31m│\u001b[0m                                                                                                  \u001b[31m│\u001b[0m\n",
       "\u001b[31m│\u001b[0m \u001b[31m❱ \u001b[0m1 y_pred_train= prediction(X_train,X_test,y_train,y_test,model)                                \u001b[31m│\u001b[0m\n",
       "\u001b[31m│\u001b[0m   \u001b[2m2 \u001b[0my_pred_test = prediction(X_train,X_test,y_train,y_test,model)                                \u001b[31m│\u001b[0m\n",
       "\u001b[31m│\u001b[0m   \u001b[2m3 \u001b[0m                                                                                             \u001b[31m│\u001b[0m\n",
       "\u001b[31m╰──────────────────────────────────────────────────────────────────────────────────────────────────╯\u001b[0m\n",
       "\u001b[1;91mNameError: \u001b[0mname \u001b[32m'model'\u001b[0m is not defined\n"
      ]
     },
     "metadata": {},
     "output_type": "display_data"
    }
   ],
   "source": [
    "y_pred_train= prediction(X_train,X_test,y_train,y_test,model)\n",
    "y_pred_test = prediction(X_train,X_test,y_train,y_test,model)"
   ]
  },
  {
   "cell_type": "code",
   "execution_count": 65,
   "id": "c7e3404d-c2ff-4974-82bd-bdb51c6c82b1",
   "metadata": {},
   "outputs": [
    {
     "data": {
      "text/html": [
       "<pre style=\"white-space:pre;overflow-x:auto;line-height:normal;font-family:Menlo,'DejaVu Sans Mono',consolas,'Courier New',monospace\"><span style=\"color: #800000; text-decoration-color: #800000\">╭─────────────────────────────── </span><span style=\"color: #800000; text-decoration-color: #800000; font-weight: bold\">Traceback </span><span style=\"color: #bf7f7f; text-decoration-color: #bf7f7f; font-weight: bold\">(most recent call last)</span><span style=\"color: #800000; text-decoration-color: #800000\"> ────────────────────────────────╮</span>\n",
       "<span style=\"color: #800000; text-decoration-color: #800000\">│</span> in <span style=\"color: #00ff00; text-decoration-color: #00ff00\">&lt;module&gt;</span>:<span style=\"color: #0000ff; text-decoration-color: #0000ff\">9</span>                                                                                    <span style=\"color: #800000; text-decoration-color: #800000\">│</span>\n",
       "<span style=\"color: #800000; text-decoration-color: #800000\">│</span>                                                                                                  <span style=\"color: #800000; text-decoration-color: #800000\">│</span>\n",
       "<span style=\"color: #800000; text-decoration-color: #800000\">│</span>   <span style=\"color: #7f7f7f; text-decoration-color: #7f7f7f\"> 6 </span><span style=\"color: #7f7f7f; text-decoration-color: #7f7f7f\">│   </span>accuracy_score_train = accuracy_score(y_train,y_pred_train)                             <span style=\"color: #800000; text-decoration-color: #800000\">│</span>\n",
       "<span style=\"color: #800000; text-decoration-color: #800000\">│</span>   <span style=\"color: #7f7f7f; text-decoration-color: #7f7f7f\"> 7 </span><span style=\"color: #7f7f7f; text-decoration-color: #7f7f7f\">│   </span>accuracy_score_test = accuracy_score(y_test,y_pred_test)                                <span style=\"color: #800000; text-decoration-color: #800000\">│</span>\n",
       "<span style=\"color: #800000; text-decoration-color: #800000\">│</span>   <span style=\"color: #7f7f7f; text-decoration-color: #7f7f7f\"> 8 </span><span style=\"color: #7f7f7f; text-decoration-color: #7f7f7f\">│   </span><span style=\"color: #0000ff; text-decoration-color: #0000ff\">return</span> accuracy_score_train,accuracy_score_test                                         <span style=\"color: #800000; text-decoration-color: #800000\">│</span>\n",
       "<span style=\"color: #800000; text-decoration-color: #800000\">│</span> <span style=\"color: #800000; text-decoration-color: #800000\">❱ </span> 9 accuracy_score_train,accuracy_score_test = evaluation(y_pred_train,y_pred_test)             <span style=\"color: #800000; text-decoration-color: #800000\">│</span>\n",
       "<span style=\"color: #800000; text-decoration-color: #800000\">│</span>   <span style=\"color: #7f7f7f; text-decoration-color: #7f7f7f\">10 </span>                                                                                            <span style=\"color: #800000; text-decoration-color: #800000\">│</span>\n",
       "<span style=\"color: #800000; text-decoration-color: #800000\">╰──────────────────────────────────────────────────────────────────────────────────────────────────╯</span>\n",
       "<span style=\"color: #ff0000; text-decoration-color: #ff0000; font-weight: bold\">NameError: </span>name <span style=\"color: #008000; text-decoration-color: #008000\">'y_pred_train'</span> is not defined\n",
       "</pre>\n"
      ],
      "text/plain": [
       "\u001b[31m╭─\u001b[0m\u001b[31m──────────────────────────────\u001b[0m\u001b[31m \u001b[0m\u001b[1;31mTraceback \u001b[0m\u001b[1;2;31m(most recent call last)\u001b[0m\u001b[31m \u001b[0m\u001b[31m───────────────────────────────\u001b[0m\u001b[31m─╮\u001b[0m\n",
       "\u001b[31m│\u001b[0m in \u001b[92m<module>\u001b[0m:\u001b[94m9\u001b[0m                                                                                    \u001b[31m│\u001b[0m\n",
       "\u001b[31m│\u001b[0m                                                                                                  \u001b[31m│\u001b[0m\n",
       "\u001b[31m│\u001b[0m   \u001b[2m 6 \u001b[0m\u001b[2m│   \u001b[0maccuracy_score_train = accuracy_score(y_train,y_pred_train)                             \u001b[31m│\u001b[0m\n",
       "\u001b[31m│\u001b[0m   \u001b[2m 7 \u001b[0m\u001b[2m│   \u001b[0maccuracy_score_test = accuracy_score(y_test,y_pred_test)                                \u001b[31m│\u001b[0m\n",
       "\u001b[31m│\u001b[0m   \u001b[2m 8 \u001b[0m\u001b[2m│   \u001b[0m\u001b[94mreturn\u001b[0m accuracy_score_train,accuracy_score_test                                         \u001b[31m│\u001b[0m\n",
       "\u001b[31m│\u001b[0m \u001b[31m❱ \u001b[0m 9 accuracy_score_train,accuracy_score_test = evaluation(y_pred_train,y_pred_test)             \u001b[31m│\u001b[0m\n",
       "\u001b[31m│\u001b[0m   \u001b[2m10 \u001b[0m                                                                                            \u001b[31m│\u001b[0m\n",
       "\u001b[31m╰──────────────────────────────────────────────────────────────────────────────────────────────────╯\u001b[0m\n",
       "\u001b[1;91mNameError: \u001b[0mname \u001b[32m'y_pred_train'\u001b[0m is not defined\n"
      ]
     },
     "metadata": {},
     "output_type": "display_data"
    }
   ],
   "source": [
    "def evaluation(y_pred_train,y_pred_test):\n",
    "    \"\"\"Model accuracy check\n",
    "    Args: y_pred_train,y_pred_test\n",
    "    Return: Accuracy_score\"\"\"\n",
    "    from sklearn.metrics import accuracy_score\n",
    "    accuracy_score_train = accuracy_score(y_train,y_pred_train)\n",
    "    accuracy_score_test = accuracy_score(y_test,y_pred_test)\n",
    "    return accuracy_score_train,accuracy_score_test\n",
    "accuracy_score_train,accuracy_score_test = evaluation(y_pred_train,y_pred_test)"
   ]
  },
  {
   "cell_type": "code",
   "execution_count": 78,
   "id": "e89697a2-ef5e-49b1-b530-452ba82a43a3",
   "metadata": {},
   "outputs": [],
   "source": [
    "def extracting_inference_data(df):\n",
    "    \"\"\" Inference data extraction\n",
    "    Arg: df\n",
    "    Return: df2 \"\"\"\n",
    "    df2 = df[df[\"RainTomorrow\"].isna()]\n",
    "    return df2\n",
    "df2 = extracting_inference_data(df)"
   ]
  },
  {
   "cell_type": "code",
   "execution_count": 79,
   "id": "56d79367-0647-44a9-b2f2-a43d219b03f1",
   "metadata": {},
   "outputs": [],
   "source": [
    "def splitting_inference_data(df2):\n",
    "    \"\"\" Splitting inference data\n",
    "    Arg: df2\n",
    "    Return: X_inf,y_inf \"\"\"\n",
    "    X_inf = df2.drop(['RainTomorrow'],axis=1)\n",
    "    y_inf = df2['RainTomorrow']\n",
    "    return X_inf,y_inf\n",
    "X_inf,y_inf = splitting_inference_data(df2)"
   ]
  },
  {
   "cell_type": "code",
   "execution_count": null,
   "id": "da79dffd-74b4-44ca-801c-7028c7e9e2a0",
   "metadata": {},
   "outputs": [],
   "source": [
    "def inference_data_treat_missing_val(X_inf):\n",
    "    \"\"\" Misssing value treatment on training data\n",
    "    Arg: df1\n",
    "    Return: df1_treat_missing_value\"\"\"\n",
    "    Xinf_treat_missing_value = X_inf.fillna(method='ffill',axis=0).fillna(method='bfill',axis=0)\n",
    "    return Xinf_treat_missing_value\n",
    "Xinf_treat_missing_value = inference_data_treat_missing_val(X_inf)"
   ]
  },
  {
   "cell_type": "code",
   "execution_count": null,
   "id": "bb42eb3d-c339-4fea-9894-cf77ca0884c0",
   "metadata": {},
   "outputs": [],
   "source": [
    "def inference_data_label_encoding(Xinf_treat_missing_value):\n",
    "    \"\"\" Label encoding converting categorical variables to numerical variables\n",
    "    Arg: df1_treat_missing_value\n",
    "    Return: df1_label_encoder\"\"\"\n",
    "    from sklearn.preprocessing import LabelEncoder\n",
    "    l_encoder = LabelEncoder()\n",
    "    Xinf_treat_missing_value['Location'] = l_encoder.fit_transform(Xinf_treat_missing_value['Location'])\n",
    "    Xinf_treat_missing_value['WindGustDir'] = l_encoder.fit_transform(Xinf_treat_missing_value['WindGustDir'])\n",
    "    Xinf_treat_missing_value['WindDir9am'] = l_encoder.fit_transform(Xinf_treat_missing_value['WindDir9am'])\n",
    "    Xinf_treat_missing_value['WindDir3pm'] = l_encoder.fit_transformXinf_treat_missing_value['WindDir3pm'])\n",
    "    Xinf_treat_missing_value['RainToday'] = l_encoder.fit_transform(Xinf_treat_missing_value['RainToday'])\n",
    "    Xinf_treat_missing_value0 = Xinf_treat_missing_value.copy()\n",
    "    return Xinf_treat_missing_value0"
   ]
  },
  {
   "cell_type": "code",
   "execution_count": null,
   "id": "d8cc12bd-5023-4668-8052-75a8c241073b",
   "metadata": {},
   "outputs": [],
   "source": [
    "Xinf_treat_missing_value0 = inference_data_label_encoding(Xinf_treat_missing_value)"
   ]
  },
  {
   "cell_type": "code",
   "execution_count": null,
   "id": "fa485e8e-6a2a-4a56-89e1-fc947613fabf",
   "metadata": {},
   "outputs": [],
   "source": [
    "def inference_data_scaling(Xinf_treat_missing_value0):\n",
    "    \"\"\" Scaling data is used to standardized data.\n",
    "    Arg: df1_label_encoder\n",
    "    Return: df1_scaled_data\"\"\"\n",
    "    from sklearn.preprocessing import StandardScaler\n",
    "    scaler = StandardScaler()\n",
    "    inference_scaled_data = scaler.fit_transform(Xinf_treat_missing_value0)\n",
    "    df1_inference_scaled_data = pd.DataFrame(inference_scaled_data)\n",
    "    return df1_inference_scaled_data"
   ]
  },
  {
   "cell_type": "code",
   "execution_count": null,
   "id": "dfcca3c0-42c3-49ba-96b7-eced0328c18a",
   "metadata": {},
   "outputs": [],
   "source": [
    "df1_inference_scaled_data = inference_data_scaling(Xinf_treat_missing_value0)"
   ]
  },
  {
   "cell_type": "code",
   "execution_count": null,
   "id": "fb54618f-b805-4b58-a197-cefcc3f0770d",
   "metadata": {},
   "outputs": [],
   "source": [
    "def logregAlgorithm(X_train,X_test,y_train,y_test):\n",
    "    \"\"\"Logistic regression algorithm used\n",
    "    Args: X_train,X_test,y_train,y_test\n",
    "    Return:y_pred_train,y_pred_test\"\"\"\n",
    "    from sklearn.linear_model import LogisticRegression\n",
    "    logreg = LogisticRegression(solver='liblinear',random_state=0)\n",
    "    logreg.fit(X_train,y_train)\n",
    "    y_pred_inf = logreg.predict(df1_inference_scaled_data)\n",
    "    return y_pred_inf"
   ]
  }
 ],
 "metadata": {
  "kernelspec": {
   "display_name": "Kedro (weather_aus)",
   "language": "python",
   "name": "kedro_weather_aus"
  },
  "language_info": {
   "codemirror_mode": {
    "name": "ipython",
    "version": 3
   },
   "file_extension": ".py",
   "mimetype": "text/x-python",
   "name": "python",
   "nbconvert_exporter": "python",
   "pygments_lexer": "ipython3",
   "version": "3.10.8"
  }
 },
 "nbformat": 4,
 "nbformat_minor": 5
}
